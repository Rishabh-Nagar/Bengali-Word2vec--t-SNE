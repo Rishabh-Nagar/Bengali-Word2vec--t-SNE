{
  "nbformat": 4,
  "nbformat_minor": 0,
  "metadata": {
    "colab": {
      "name": "word2vec(Bengali)_t-SNE.ipynb",
      "provenance": [],
      "collapsed_sections": []
    },
    "kernelspec": {
      "display_name": "Python 3",
      "name": "python3"
    },
    "language_info": {
      "name": "python"
    }
  },
  "cells": [
    {
      "cell_type": "markdown",
      "metadata": {
        "id": "HKZyIvkqAyXc"
      },
      "source": [
        "# Installing Dependencies and Importing the Libraries"
      ]
    },
    {
      "cell_type": "code",
      "metadata": {
        "colab": {
          "base_uri": "https://localhost:8080/"
        },
        "id": "DfGdZRATAHdA",
        "outputId": "98b8511d-60b3-445a-f7a4-3d16f1b8d2d4"
      },
      "source": [
        "!pip install --upgrade gensim"
      ],
      "execution_count": 1,
      "outputs": [
        {
          "output_type": "stream",
          "text": [
            "Requirement already satisfied: gensim in /usr/local/lib/python3.7/dist-packages (4.0.1)\n",
            "Requirement already satisfied: scipy>=0.18.1 in /usr/local/lib/python3.7/dist-packages (from gensim) (1.4.1)\n",
            "Requirement already satisfied: smart-open>=1.8.1 in /usr/local/lib/python3.7/dist-packages (from gensim) (5.1.0)\n",
            "Requirement already satisfied: numpy>=1.11.3 in /usr/local/lib/python3.7/dist-packages (from gensim) (1.19.5)\n"
          ],
          "name": "stdout"
        }
      ]
    },
    {
      "cell_type": "code",
      "metadata": {
        "colab": {
          "base_uri": "https://localhost:8080/"
        },
        "id": "9BvEtTyouJJH",
        "outputId": "77bbb945-3771-492a-af54-1e20935657da"
      },
      "source": [
        "# nltk - for removing stopwords\n",
        "import nltk\n",
        "nltk.download('stopwords')\n",
        "#pandas - for reading dataframes\n",
        "import pandas as pd\n",
        "from nltk.corpus import stopwords\n",
        "stopwords.words('english')\n",
        "nltk.download('punkt')\n",
        "from nltk.tokenize import word_tokenize\n",
        "import numpy as np\n",
        "#mtplotlib - for printing plots\n",
        "import matplotlib.pyplot as plt\n",
        "from numpy import dot\n",
        "from numpy.linalg import norm\n",
        "import gensim\n",
        "from gensim.models import Word2Vec\n",
        "# tsne visulisation\n",
        "from sklearn.manifold import TSNE\n",
        "import re\n",
        "from indicnlp.normalize.indic_normalize import IndicNormalizerFactory"
      ],
      "execution_count": 2,
      "outputs": [
        {
          "output_type": "stream",
          "text": [
            "[nltk_data] Downloading package stopwords to /root/nltk_data...\n",
            "[nltk_data]   Package stopwords is already up-to-date!\n",
            "[nltk_data] Downloading package punkt to /root/nltk_data...\n",
            "[nltk_data]   Package punkt is already up-to-date!\n"
          ],
          "name": "stdout"
        },
        {
          "output_type": "stream",
          "text": [
            "/usr/local/lib/python3.7/dist-packages/gensim/similarities/__init__.py:15: UserWarning: The gensim.similarities.levenshtein submodule is disabled, because the optional Levenshtein package <https://pypi.org/project/python-Levenshtein/> is unavailable. Install Levenhstein (e.g. `pip install python-Levenshtein`) to suppress this warning.\n",
            "  warnings.warn(msg)\n"
          ],
          "name": "stderr"
        }
      ]
    },
    {
      "cell_type": "markdown",
      "metadata": {
        "id": "PYXxBoeMBJ6f"
      },
      "source": [
        "# Importing the Dataset"
      ]
    },
    {
      "cell_type": "code",
      "metadata": {
        "colab": {
          "base_uri": "https://localhost:8080/",
          "height": 204
        },
        "id": "dQOcjLTquRdI",
        "outputId": "4ca30469-1f38-49dd-c725-6e6c6e80b0ad"
      },
      "source": [
        "data = pd.read_csv('/content/bengali_hate_v2.0.csv')\n",
        "data.head()"
      ],
      "execution_count": 3,
      "outputs": [
        {
          "output_type": "execute_result",
          "data": {
            "text/html": [
              "<div>\n",
              "<style scoped>\n",
              "    .dataframe tbody tr th:only-of-type {\n",
              "        vertical-align: middle;\n",
              "    }\n",
              "\n",
              "    .dataframe tbody tr th {\n",
              "        vertical-align: top;\n",
              "    }\n",
              "\n",
              "    .dataframe thead th {\n",
              "        text-align: right;\n",
              "    }\n",
              "</style>\n",
              "<table border=\"1\" class=\"dataframe\">\n",
              "  <thead>\n",
              "    <tr style=\"text-align: right;\">\n",
              "      <th></th>\n",
              "      <th>text</th>\n",
              "      <th>label</th>\n",
              "      <th>target</th>\n",
              "    </tr>\n",
              "  </thead>\n",
              "  <tbody>\n",
              "    <tr>\n",
              "      <th>0</th>\n",
              "      <td>বৌদির দুধ দেকে তো আমার ই চোখ ঠিক ছিলো না - পোল...</td>\n",
              "      <td>Personal</td>\n",
              "      <td>0</td>\n",
              "    </tr>\n",
              "    <tr>\n",
              "      <th>1</th>\n",
              "      <td>এই সরকার কে যারা নির্লজ্জের মত সাপোর্ট দিয়েছে ...</td>\n",
              "      <td>Political</td>\n",
              "      <td>1</td>\n",
              "    </tr>\n",
              "    <tr>\n",
              "      <th>2</th>\n",
              "      <td>পিলখানা হত্যাকান্ড বাংলাদেশের প্রতিরক্ষা ব্যবস...</td>\n",
              "      <td>Geopolitical</td>\n",
              "      <td>3</td>\n",
              "    </tr>\n",
              "    <tr>\n",
              "      <th>3</th>\n",
              "      <td>ভারতের অর্থনীতি নিয়ে আপনাদের ভাবতে হবে না। ভা...</td>\n",
              "      <td>Geopolitical</td>\n",
              "      <td>3</td>\n",
              "    </tr>\n",
              "    <tr>\n",
              "      <th>4</th>\n",
              "      <td>খানকির পুলা মালায়নদের মেরে সাফা করে ফেল</td>\n",
              "      <td>Personal</td>\n",
              "      <td>0</td>\n",
              "    </tr>\n",
              "  </tbody>\n",
              "</table>\n",
              "</div>"
            ],
            "text/plain": [
              "                                                text         label  target\n",
              "0  বৌদির দুধ দেকে তো আমার ই চোখ ঠিক ছিলো না - পোল...      Personal       0\n",
              "1  এই সরকার কে যারা নির্লজ্জের মত সাপোর্ট দিয়েছে ...     Political       1\n",
              "2  পিলখানা হত্যাকান্ড বাংলাদেশের প্রতিরক্ষা ব্যবস...  Geopolitical       3\n",
              "3  ভারতের অর্থনীতি নিয়ে আপনাদের ভাবতে হবে না। ভা...  Geopolitical       3\n",
              "4            খানকির পুলা মালায়নদের মেরে সাফা করে ফেল      Personal       0"
            ]
          },
          "metadata": {
            "tags": []
          },
          "execution_count": 3
        }
      ]
    },
    {
      "cell_type": "markdown",
      "metadata": {
        "id": "RNK9JE_kBNg4"
      },
      "source": [
        "# Importing stop words csv file"
      ]
    },
    {
      "cell_type": "code",
      "metadata": {
        "colab": {
          "base_uri": "https://localhost:8080/"
        },
        "id": "_0Mc2bhHu9zY",
        "outputId": "e8a0e18e-f514-4995-ee2e-5f157079c389"
      },
      "source": [
        "stop_df = pd.read_csv('/content/stop.csv', sep='\\n', header= None)\n",
        "#stop_words.head()\n",
        "stop_words = []\n",
        "stop_words = list(stop_df[0])\n",
        "print(stop_words)\n",
        "stop_words.append('!')\n",
        "stop_words.append('-')\n",
        "stpwrd = nltk.corpus.stopwords.words('english')\n",
        "#extending the stopwords list by adding the stop_df words to the initial stopwords list\n",
        "stpwrd.extend(stop_words)"
      ],
      "execution_count": 4,
      "outputs": [
        {
          "output_type": "stream",
          "text": [
            "['অতএব', 'অথচ', 'অথবা', 'অনুযায়ী', 'অনেক', 'অনেকে', 'অনেকেই', 'অন্তত', 'অন্য', 'অবধি', 'অবশ্য', 'অর্থাত', 'আই', 'আগামী', 'আগে', 'আগেই', 'আছে', 'আজ', 'আদ্যভাগে', 'আপনার', 'আপনি', 'আবার', 'আমরা', 'আমাকে', 'আমাদের', 'আমার', 'আমি', 'আর', 'আরও', 'ই', 'ইত্যাদি', 'ইহা', 'উচিত', 'উত্তর', 'উনি', 'উপর', 'উপরে', 'এ', 'এঁদের', 'এঁরা', 'এই', 'একই', 'একটি', 'একবার', 'একে', 'এক্', 'এখন', 'এখনও', 'এখানে', 'এখানেই', 'এটা', 'এটাই', 'এটি', 'এত', 'এতটাই', 'এতে', 'এদের', 'এব', 'এবং', 'এবার', 'এমন', 'এমনকী', 'এমনি', 'এর', 'এরা', 'এল', 'এস', 'এসে', 'ঐ', 'ও', 'ওঁদের', 'ওঁর', 'ওঁরা', 'ওই', 'ওকে', 'ওখানে', 'ওদের', 'ওর', 'ওরা', 'কখনও', 'কত', 'কবে', 'কমনে', 'কয়েক', 'কয়েকটি', 'করছে', 'করছেন', 'করতে', 'করবে', 'করবেন', 'করলে', 'করলেন', 'করা', 'করাই', 'করায়', 'করার', 'করি', 'করিতে', 'করিয়া', 'করিয়ে', 'করে', 'করেই', 'করেছিলেন', 'করেছে', 'করেছেন', 'করেন', 'কাউকে', 'কাছ', 'কাছে', 'কাজ', 'কাজে', 'কারও', 'কারণ', 'কি', 'কিংবা', 'কিছু', 'কিছুই', 'কিন্তু', 'কী', 'কে', 'কেউ', 'কেউই', 'কেখা', 'কেন', 'কোটি', 'কোন', 'কোনও', 'কোনো', 'ক্ষেত্রে', 'কয়েক', 'খুব', 'গিয়ে', 'গিয়েছে', 'গিয়ে', 'গুলি', 'গেছে', 'গেল', 'গেলে', 'গোটা', 'চলে', 'চান', 'চায়', 'চার', 'চালু', 'চেয়ে', 'চেষ্টা', 'ছাড়া', 'ছাড়াও', 'ছিল', 'ছিলেন', 'জন', 'জনকে', 'জনের', 'জন্য', 'জন্যওজে', 'জানতে', 'জানা', 'জানানো', 'জানায়', 'জানিয়ে', 'জানিয়েছে', 'জে', 'জ্নজন', 'টি', 'ঠিক', 'তখন', 'তত', 'তথা', 'তবু', 'তবে', 'তা', 'তাঁকে', 'তাঁদের', 'তাঁর', 'তাঁরা', 'তাঁাহারা', 'তাই', 'তাও', 'তাকে', 'তাতে', 'তাদের', 'তার', 'তারপর', 'তারা', 'তারৈ', 'তাহলে', 'তাহা', 'তাহাতে', 'তাহার', 'তিনঐ', 'তিনি', 'তিনিও', 'তুমি', 'তুলে', 'তেমন', 'তো', 'তোমার', 'থাকবে', 'থাকবেন', 'থাকা', 'থাকায়', 'থাকে', 'থাকেন', 'থেকে', 'থেকেই', 'থেকেও', 'দিকে', 'দিতে', 'দিন', 'দিয়ে', 'দিয়েছে', 'দিয়েছেন', 'দিলেন', 'দু', 'দুই', 'দুটি', 'দুটো', 'দেওয়া', 'দেওয়ার', 'দেওয়া', 'দেখতে', 'দেখা', 'দেখে', 'দেন', 'দেয়', 'দ্বারা', 'ধরা', 'ধরে', 'ধামার', 'নতুন', 'নয়', 'না', 'নাই', 'নাকি', 'নাগাদ', 'নানা', 'নিজে', 'নিজেই', 'নিজেদের', 'নিজের', 'নিতে', 'নিয়ে', 'নিয়ে', 'নেই', 'নেওয়া', 'নেওয়ার', 'নেওয়া', 'নয়', 'পক্ষে', 'পর', 'পরে', 'পরেই', 'পরেও', 'পর্যন্ত', 'পাওয়া', 'পাচ', 'পারি', 'পারে', 'পারেন', 'পি', 'পেয়ে', 'পেয়্র্', 'প্রতি', 'প্রথম', 'প্রভৃতি', 'প্রযন্ত', 'প্রাথমিক', 'প্রায়', 'প্রায়', 'ফলে', 'ফিরে', 'ফের', 'বক্তব্য', 'বদলে', 'বন', 'বরং', 'বলতে', 'বলল', 'বললেন', 'বলা', 'বলে', 'বলেছেন', 'বলেন', 'বসে', 'বহু', 'বা', 'বাদে', 'বার', 'বি', 'বিনা', 'বিভিন্ন', 'বিশেষ', 'বিষয়টি', 'বেশ', 'বেশি', 'ব্যবহার', 'ব্যাপারে', 'ভাবে', 'ভাবেই', 'মতো', 'মতোই', 'মধ্যভাগে', 'মধ্যে', 'মধ্যেই', 'মধ্যেও', 'মনে', 'মাত্র', 'মাধ্যমে', 'মোট', 'মোটেই', 'যখন', 'যত', 'যতটা', 'যথেষ্ট', 'যদি', 'যদিও', 'যা', 'যাঁর', 'যাঁরা', 'যাওয়া', 'যাওয়ার', 'যাওয়া', 'যাকে', 'যাচ্ছে', 'যাতে', 'যাদের', 'যান', 'যাবে', 'যায়', 'যার', 'যারা', 'যিনি', 'যে', 'যেখানে', 'যেতে', 'যেন', 'যেমন', 'র', 'রকম', 'রয়েছে', 'রাখা', 'রেখে', 'লক্ষ', 'শুধু', 'শুরু', 'সঙ্গে', 'সঙ্গেও', 'সব', 'সবার', 'সমস্ত', 'সম্প্রতি', 'সহ', 'সহিত', 'সাধারণ', 'সামনে', 'সি', 'সুতরাং', 'সে', 'সেই', 'সেখান', 'সেখানে', 'সেটা', 'সেটাই', 'সেটাও', 'সেটি', 'স্পষ্ট', 'স্বয়ং', 'হইতে', 'হইবে', 'হইয়া', 'হওয়া', 'হওয়ায়', 'হওয়ার', 'হচ্ছে', 'হত', 'হতে', 'হতেই', 'হন', 'হবে', 'হবেন', 'হয়', 'হয়তো', 'হয়নি', 'হয়ে', 'হয়েই', 'হয়েছিল', 'হয়েছে', 'হয়েছেন', 'হল', 'হলে', 'হলেই', 'হলেও', 'হলো', 'হাজার', 'হিসাবে', 'হৈলে', 'হোক', 'হয়']\n"
          ],
          "name": "stdout"
        }
      ]
    },
    {
      "cell_type": "markdown",
      "metadata": {
        "id": "xSFL1aLABScY"
      },
      "source": [
        "# Removing stopwords from the dataframe"
      ]
    },
    {
      "cell_type": "code",
      "metadata": {
        "id": "lY_dVVBVvvKS"
      },
      "source": [
        "def cleaning(text):\n",
        "  text_tokens = word_tokenize(text)\n",
        "  removing_custom_words = [words for words in text_tokens if not words in stpwrd]\n",
        "  new_sent = \" \".join(removing_custom_words)\n",
        "  return new_sent"
      ],
      "execution_count": 5,
      "outputs": []
    },
    {
      "cell_type": "code",
      "metadata": {
        "colab": {
          "base_uri": "https://localhost:8080/"
        },
        "id": "T4uHU84IvirX",
        "outputId": "b7ff1013-906f-4bfd-dac4-e4ea21b8e89c"
      },
      "source": [
        "for i in range(len(data['text'])):\n",
        "  data['text'][0] = cleaning(data['text'][0])"
      ],
      "execution_count": 6,
      "outputs": [
        {
          "output_type": "stream",
          "text": [
            "/usr/local/lib/python3.7/dist-packages/ipykernel_launcher.py:2: SettingWithCopyWarning: \n",
            "A value is trying to be set on a copy of a slice from a DataFrame\n",
            "\n",
            "See the caveats in the documentation: https://pandas.pydata.org/pandas-docs/stable/user_guide/indexing.html#returning-a-view-versus-a-copy\n",
            "  \n"
          ],
          "name": "stderr"
        }
      ]
    },
    {
      "cell_type": "code",
      "metadata": {
        "colab": {
          "base_uri": "https://localhost:8080/"
        },
        "id": "er6yhciyvk5P",
        "outputId": "3b14b5b8-0ae7-46f9-e1cc-522fee41bab1"
      },
      "source": [
        "data.columns"
      ],
      "execution_count": 7,
      "outputs": [
        {
          "output_type": "execute_result",
          "data": {
            "text/plain": [
              "Index(['text', 'label', 'target'], dtype='object')"
            ]
          },
          "metadata": {
            "tags": []
          },
          "execution_count": 7
        }
      ]
    },
    {
      "cell_type": "markdown",
      "metadata": {
        "id": "QFKlr1ARBYls"
      },
      "source": [
        "# Removing the Punctuations from the sentences"
      ]
    },
    {
      "cell_type": "code",
      "metadata": {
        "id": "GQyKWmDPLz-P"
      },
      "source": [
        "def punctuation(t1):\n",
        "    whitespace = re.compile(u\"[\\s\\u0020\\u00a0\\u1680\\u180e\\u202f\\u205f\\u3000\\u2000-\\u200a]+\", re.UNICODE)\n",
        "    bangla_fullstop = u\"\\u0964\"\n",
        "    punctSeq   = u\"['\\\"“”‘’]+|[.?!,…]+|[:;]+\"\n",
        "    punc = u\"[(),$%^&*+={}\\[\\]:\\\"|\\'\\~`<>/,¦!?½£¶¼©⅐⅑⅒⅓⅔⅕⅖⅗⅘⅙⅚⅛⅜⅝⅞⅟↉¤¿º;-]+\"\n",
        "    t1= whitespace.sub(\" \",t1).strip()\n",
        "    t1 = re.sub(punctSeq, \" \", t1)\n",
        "    t1 = re.sub(bangla_fullstop, \" \",t1)\n",
        "    t1 = re.sub(punc, \" \", t1)\n",
        "    return t1"
      ],
      "execution_count": 8,
      "outputs": []
    },
    {
      "cell_type": "code",
      "metadata": {
        "id": "3RVih993Lz7o"
      },
      "source": [
        "data['text']=data['text'].apply(punctuation)"
      ],
      "execution_count": 9,
      "outputs": []
    },
    {
      "cell_type": "markdown",
      "metadata": {
        "id": "gSKP_BRmBeMt"
      },
      "source": [
        "# Replacing the bengali numerical values with english numerical values"
      ]
    },
    {
      "cell_type": "code",
      "metadata": {
        "id": "sjGkkqk9Lz5H"
      },
      "source": [
        "def replace_num(one):\n",
        "    one = one.replace(\"০\",\"0\")\n",
        "    one=one.replace(\"১\",\"1\")\n",
        "    one=one.replace(\"২\",\"2\")\n",
        "    one=one.replace(\"৩\",\"3\")\n",
        "    one=one.replace(\"৪\",\"4\")\n",
        "    one=one.replace(\"৫\",\"5\")\n",
        "    one=one.replace(\"৬\",\"6\")\n",
        "    one=one.replace(\"৭\",\"7\")\n",
        "    one=one.replace(\"৮\",\"8\")\n",
        "    one=one.replace(\"৯\",\"9\")\n",
        "    return one"
      ],
      "execution_count": 10,
      "outputs": []
    },
    {
      "cell_type": "code",
      "metadata": {
        "id": "ANib_CMjLz2h"
      },
      "source": [
        "data['text']=data['text'].apply(replace_num)"
      ],
      "execution_count": 11,
      "outputs": []
    },
    {
      "cell_type": "markdown",
      "metadata": {
        "id": "Oof-otcMBkfD"
      },
      "source": [
        "# Removing the non bengali words"
      ]
    },
    {
      "cell_type": "code",
      "metadata": {
        "id": "_F40GXhJLzz1"
      },
      "source": [
        "def non_bengali(a):\n",
        "    a = \"\".join(i for i in a if i in [\".\",\"।\"] or 2432 <= ord(i) <= 2559 or ord(i)== 32)\n",
        "    a=re.sub(' +', ' ', a)\n",
        "    return a"
      ],
      "execution_count": 12,
      "outputs": []
    },
    {
      "cell_type": "code",
      "metadata": {
        "id": "YppT4UoCLzwI"
      },
      "source": [
        "data['text']=data['text'].apply(non_bengali)"
      ],
      "execution_count": 13,
      "outputs": []
    },
    {
      "cell_type": "code",
      "metadata": {
        "colab": {
          "base_uri": "https://localhost:8080/",
          "height": 35
        },
        "id": "SF1P9j0YLzsH",
        "outputId": "2a28da22-7057-4bc1-bee0-cb6195cddf77"
      },
      "source": [
        "data['text'][144]"
      ],
      "execution_count": 14,
      "outputs": [
        {
          "output_type": "execute_result",
          "data": {
            "application/vnd.google.colaboratory.intrinsic+json": {
              "type": "string"
            },
            "text/plain": [
              "'হিন্দু বা কাফের দের সাতে হাত মিলিয়ে সারা দুনিয়াতে ফেতনা লাগায়ে নিজেরা শেষ হয়ে জাচ্ছে'"
            ]
          },
          "metadata": {
            "tags": []
          },
          "execution_count": 14
        }
      ]
    },
    {
      "cell_type": "markdown",
      "metadata": {
        "id": "pLmQDRsgB0lQ"
      },
      "source": [
        "# Indic Nlp\n",
        "\n",
        "The goal of the Indic NLP Library is to build Python based libraries for common text processing and Natural Language Processing in Indian languages. Indian languages share a lot of similarity in terms of script, phonology, language syntax, etc."
      ]
    },
    {
      "cell_type": "code",
      "metadata": {
        "colab": {
          "base_uri": "https://localhost:8080/"
        },
        "id": "waw5uehgNYZM",
        "outputId": "afa78471-d277-4e88-fa39-25f20bb0489f"
      },
      "source": [
        "!pip install indic-nlp-library"
      ],
      "execution_count": 15,
      "outputs": [
        {
          "output_type": "stream",
          "text": [
            "Requirement already satisfied: indic-nlp-library in /usr/local/lib/python3.7/dist-packages (0.81)\n",
            "Requirement already satisfied: numpy in /usr/local/lib/python3.7/dist-packages (from indic-nlp-library) (1.19.5)\n",
            "Requirement already satisfied: morfessor in /usr/local/lib/python3.7/dist-packages (from indic-nlp-library) (2.0.6)\n",
            "Requirement already satisfied: pandas in /usr/local/lib/python3.7/dist-packages (from indic-nlp-library) (1.1.5)\n",
            "Requirement already satisfied: sphinx-rtd-theme in /usr/local/lib/python3.7/dist-packages (from indic-nlp-library) (0.5.2)\n",
            "Requirement already satisfied: sphinx-argparse in /usr/local/lib/python3.7/dist-packages (from indic-nlp-library) (0.2.5)\n",
            "Requirement already satisfied: pytz>=2017.2 in /usr/local/lib/python3.7/dist-packages (from pandas->indic-nlp-library) (2018.9)\n",
            "Requirement already satisfied: python-dateutil>=2.7.3 in /usr/local/lib/python3.7/dist-packages (from pandas->indic-nlp-library) (2.8.1)\n",
            "Requirement already satisfied: six>=1.5 in /usr/local/lib/python3.7/dist-packages (from python-dateutil>=2.7.3->pandas->indic-nlp-library) (1.15.0)\n",
            "Requirement already satisfied: sphinx>=1.2.0 in /usr/local/lib/python3.7/dist-packages (from sphinx-argparse->indic-nlp-library) (1.8.5)\n",
            "Requirement already satisfied: alabaster<0.8,>=0.7 in /usr/local/lib/python3.7/dist-packages (from sphinx>=1.2.0->sphinx-argparse->indic-nlp-library) (0.7.12)\n",
            "Requirement already satisfied: imagesize in /usr/local/lib/python3.7/dist-packages (from sphinx>=1.2.0->sphinx-argparse->indic-nlp-library) (1.2.0)\n",
            "Requirement already satisfied: snowballstemmer>=1.1 in /usr/local/lib/python3.7/dist-packages (from sphinx>=1.2.0->sphinx-argparse->indic-nlp-library) (2.1.0)\n",
            "Requirement already satisfied: babel!=2.0,>=1.3 in /usr/local/lib/python3.7/dist-packages (from sphinx>=1.2.0->sphinx-argparse->indic-nlp-library) (2.9.1)\n",
            "Requirement already satisfied: setuptools in /usr/local/lib/python3.7/dist-packages (from sphinx>=1.2.0->sphinx-argparse->indic-nlp-library) (57.2.0)\n",
            "Requirement already satisfied: sphinxcontrib-websupport in /usr/local/lib/python3.7/dist-packages (from sphinx>=1.2.0->sphinx-argparse->indic-nlp-library) (1.2.4)\n",
            "Requirement already satisfied: Pygments>=2.0 in /usr/local/lib/python3.7/dist-packages (from sphinx>=1.2.0->sphinx-argparse->indic-nlp-library) (2.6.1)\n",
            "Requirement already satisfied: requests>=2.0.0 in /usr/local/lib/python3.7/dist-packages (from sphinx>=1.2.0->sphinx-argparse->indic-nlp-library) (2.23.0)\n",
            "Requirement already satisfied: Jinja2>=2.3 in /usr/local/lib/python3.7/dist-packages (from sphinx>=1.2.0->sphinx-argparse->indic-nlp-library) (2.11.3)\n",
            "Requirement already satisfied: docutils>=0.11 in /usr/local/lib/python3.7/dist-packages (from sphinx>=1.2.0->sphinx-argparse->indic-nlp-library) (0.16)\n",
            "Requirement already satisfied: packaging in /usr/local/lib/python3.7/dist-packages (from sphinx>=1.2.0->sphinx-argparse->indic-nlp-library) (21.0)\n",
            "Requirement already satisfied: MarkupSafe>=0.23 in /usr/local/lib/python3.7/dist-packages (from Jinja2>=2.3->sphinx>=1.2.0->sphinx-argparse->indic-nlp-library) (2.0.1)\n",
            "Requirement already satisfied: urllib3!=1.25.0,!=1.25.1,<1.26,>=1.21.1 in /usr/local/lib/python3.7/dist-packages (from requests>=2.0.0->sphinx>=1.2.0->sphinx-argparse->indic-nlp-library) (1.24.3)\n",
            "Requirement already satisfied: idna<3,>=2.5 in /usr/local/lib/python3.7/dist-packages (from requests>=2.0.0->sphinx>=1.2.0->sphinx-argparse->indic-nlp-library) (2.10)\n",
            "Requirement already satisfied: certifi>=2017.4.17 in /usr/local/lib/python3.7/dist-packages (from requests>=2.0.0->sphinx>=1.2.0->sphinx-argparse->indic-nlp-library) (2021.5.30)\n",
            "Requirement already satisfied: chardet<4,>=3.0.2 in /usr/local/lib/python3.7/dist-packages (from requests>=2.0.0->sphinx>=1.2.0->sphinx-argparse->indic-nlp-library) (3.0.4)\n",
            "Requirement already satisfied: pyparsing>=2.0.2 in /usr/local/lib/python3.7/dist-packages (from packaging->sphinx>=1.2.0->sphinx-argparse->indic-nlp-library) (2.4.7)\n",
            "Requirement already satisfied: sphinxcontrib-serializinghtml in /usr/local/lib/python3.7/dist-packages (from sphinxcontrib-websupport->sphinx>=1.2.0->sphinx-argparse->indic-nlp-library) (1.1.5)\n"
          ],
          "name": "stdout"
        }
      ]
    },
    {
      "cell_type": "markdown",
      "metadata": {
        "id": "yE5C6q1pB6Rp"
      },
      "source": [
        "Importing the indic nlp library"
      ]
    },
    {
      "cell_type": "code",
      "metadata": {
        "id": "l-Ux4vF-voPP"
      },
      "source": [
        "import sys\n",
        "from indicnlp import common\n",
        "\n",
        "# The path to the local git repo for Indic NLP library\n",
        "INDIC_NLP_LIB_HOME=r\"indic_nlp_library\"\n",
        "\n",
        "# The path to the local git repo for Indic NLP Resources\n",
        "INDIC_NLP_RESOURCES=r\"indic_nlp_resources\"\n",
        "\n",
        "# Add library to Python path\n",
        "sys.path.append(r'{}\\src'.format(INDIC_NLP_LIB_HOME))\n",
        "\n",
        "# Set environment variable for resources folder\n",
        "common.set_resources_path(INDIC_NLP_RESOURCES)"
      ],
      "execution_count": 16,
      "outputs": []
    },
    {
      "cell_type": "code",
      "metadata": {
        "colab": {
          "base_uri": "https://localhost:8080/"
        },
        "id": "b6SJ296XIk2g",
        "outputId": "c2542a49-2aeb-4adf-8fc9-9a8b2780d003"
      },
      "source": [
        "from indicnlp.tokenize import indic_tokenize  \n",
        "\n",
        "print('Input String: {}'.format(data['text'][150]))\n",
        "print('Tokens: ')\n",
        "for t in indic_tokenize.trivial_tokenize(data['text'][150],lang='bn'): \n",
        "    print(t)"
      ],
      "execution_count": 17,
      "outputs": [
        {
          "output_type": "stream",
          "text": [
            "Input String: বাংলাদেশে যতো ইসলাম ধর্ম নিয়ে কটুক্তি করা হয় তা যদি সরকারের বিরুদ্ধে করতো তাহলে নুরুর মতো অবস্থা হতো \n",
            "Tokens: \n",
            "বাংলাদেশে\n",
            "যতো\n",
            "ইসলাম\n",
            "ধর্ম\n",
            "নিয়ে\n",
            "কটুক্তি\n",
            "করা\n",
            "হয়\n",
            "তা\n",
            "যদি\n",
            "সরকারের\n",
            "বিরুদ্ধে\n",
            "করতো\n",
            "তাহলে\n",
            "নুরুর\n",
            "মতো\n",
            "অবস্থা\n",
            "হতো\n"
          ],
          "name": "stdout"
        }
      ]
    },
    {
      "cell_type": "markdown",
      "metadata": {
        "id": "fQIv0GafB--f"
      },
      "source": [
        "# Normalising using Indic"
      ]
    },
    {
      "cell_type": "code",
      "metadata": {
        "colab": {
          "base_uri": "https://localhost:8080/"
        },
        "id": "FmFRfvOBOFDE",
        "outputId": "9f6464f8-2e28-4460-c908-9e76d7af6b95"
      },
      "source": [
        "input_text=data['text'][18]\n",
        "remove_nuktas=False\n",
        "factory=IndicNormalizerFactory()\n",
        "normalizer=factory.get_normalizer(\"bn\")\n",
        "output_text=normalizer.normalize(input_text)\n",
        "\n",
        "print(input_text)\n",
        "print()\n",
        "\n",
        "print('Before normalization')\n",
        "print(' '.join([ hex(ord(c)) for c in input_text ] ))\n",
        "print('Length: {}'.format(len(input_text)))\n",
        "print()    \n",
        "print('After normalization')\n",
        "print(' '.join([ hex(ord(c)) for c in output_text ] ))\n",
        "print('Length: {}'.format(len(output_text)))  \n",
        "print(output_text)"
      ],
      "execution_count": 18,
      "outputs": [
        {
          "output_type": "stream",
          "text": [
            "দেহ ব্যবসায়ী মমতাজ যদি সংসদ সদস্য হতেপারে তাহলে হিরো আলম হতে পারবেনা কেনো \n",
            "\n",
            "Before normalization\n",
            "0x9a6 0x9c7 0x9b9 0x20 0x9ac 0x9cd 0x9af 0x9ac 0x9b8 0x9be 0x9df 0x9c0 0x20 0x9ae 0x9ae 0x9a4 0x9be 0x99c 0x20 0x9af 0x9a6 0x9bf 0x20 0x9b8 0x982 0x9b8 0x9a6 0x20 0x9b8 0x9a6 0x9b8 0x9cd 0x9af 0x20 0x9b9 0x9a4 0x9c7 0x9aa 0x9be 0x9b0 0x9c7 0x20 0x9a4 0x9be 0x9b9 0x9b2 0x9c7 0x20 0x9b9 0x9bf 0x9b0 0x9cb 0x20 0x986 0x9b2 0x9ae 0x20 0x9b9 0x9a4 0x9c7 0x20 0x9aa 0x9be 0x9b0 0x9ac 0x9c7 0x9a8 0x9be 0x20 0x995 0x9c7 0x9a8 0x9cb 0x20\n",
            "Length: 74\n",
            "\n",
            "After normalization\n",
            "0x9a6 0x9c7 0x9b9 0x20 0x9ac 0x9cd 0x9af 0x9ac 0x9b8 0x9be 0x9af 0x9bc 0x9c0 0x20 0x9ae 0x9ae 0x9a4 0x9be 0x99c 0x20 0x9af 0x9a6 0x9bf 0x20 0x9b8 0x982 0x9b8 0x9a6 0x20 0x9b8 0x9a6 0x9b8 0x9cd 0x9af 0x20 0x9b9 0x9a4 0x9c7 0x9aa 0x9be 0x9b0 0x9c7 0x20 0x9a4 0x9be 0x9b9 0x9b2 0x9c7 0x20 0x9b9 0x9bf 0x9b0 0x9cb 0x20 0x986 0x9b2 0x9ae 0x20 0x9b9 0x9a4 0x9c7 0x20 0x9aa 0x9be 0x9b0 0x9ac 0x9c7 0x9a8 0x9be 0x20 0x995 0x9c7 0x9a8 0x9cb 0x20\n",
            "Length: 75\n",
            "দেহ ব্যবসায়ী মমতাজ যদি সংসদ সদস্য হতেপারে তাহলে হিরো আলম হতে পারবেনা কেনো \n"
          ],
          "name": "stdout"
        }
      ]
    },
    {
      "cell_type": "markdown",
      "metadata": {
        "id": "NYv9alhREXD2"
      },
      "source": [
        "Splitting Sentence into Words"
      ]
    },
    {
      "cell_type": "code",
      "metadata": {
        "id": "IfSedruzOQSE"
      },
      "source": [
        "def basic_clean(text):    \n",
        "    remove_nuktas=False\n",
        "    factory=IndicNormalizerFactory()\n",
        "    normalizer=factory.get_normalizer(\"bn\")\n",
        "    output_text=normalizer.normalize(text)\n",
        "    words=indic_tokenize.trivial_tokenize(text,lang='bn')\n",
        "    return words"
      ],
      "execution_count": 20,
      "outputs": []
    },
    {
      "cell_type": "code",
      "metadata": {
        "id": "hU2YUSqEOUkr"
      },
      "source": [
        "words = basic_clean(''.join(str(data['text'].tolist())))"
      ],
      "execution_count": 21,
      "outputs": []
    },
    {
      "cell_type": "code",
      "metadata": {
        "id": "MVL5jiFtOUhV"
      },
      "source": [
        "values=[]\n",
        "\n",
        "size=data.shape[0]\n",
        "for i in range(0,size):\n",
        "        worddd=basic_clean(data['text'][i])\n",
        "        values.append(worddd)"
      ],
      "execution_count": 22,
      "outputs": []
    },
    {
      "cell_type": "code",
      "metadata": {
        "colab": {
          "base_uri": "https://localhost:8080/"
        },
        "id": "ZBYBUjcBOUdc",
        "outputId": "2670a3e0-9fb6-47ee-a488-bf4fa3128601"
      },
      "source": [
        "size"
      ],
      "execution_count": 23,
      "outputs": [
        {
          "output_type": "execute_result",
          "data": {
            "text/plain": [
              "5698"
            ]
          },
          "metadata": {
            "tags": []
          },
          "execution_count": 23
        }
      ]
    },
    {
      "cell_type": "markdown",
      "metadata": {
        "id": "gOGzQdGYDP15"
      },
      "source": [
        "Printing samples"
      ]
    },
    {
      "cell_type": "code",
      "metadata": {
        "colab": {
          "base_uri": "https://localhost:8080/"
        },
        "id": "b8_NnPcaOUaN",
        "outputId": "f1f9dc83-ee69-46b3-d91d-ca495abf2c84"
      },
      "source": [
        "print(words[:10])"
      ],
      "execution_count": 24,
      "outputs": [
        {
          "output_type": "stream",
          "text": [
            "['[', \"'\", 'বৌদির', 'দুধ', 'দেকে', 'চোখ', 'ছিলো', 'পোলাপান', 'চোখ', 'কিভাবে']\n"
          ],
          "name": "stdout"
        }
      ]
    },
    {
      "cell_type": "code",
      "metadata": {
        "colab": {
          "base_uri": "https://localhost:8080/"
        },
        "id": "E50OsNBUOUVv",
        "outputId": "86a6caae-6cde-415d-ca72-dc984932192d"
      },
      "source": [
        "print(values[:20])"
      ],
      "execution_count": 25,
      "outputs": [
        {
          "output_type": "stream",
          "text": [
            "[['বৌদির', 'দুধ', 'দেকে', 'চোখ', 'ছিলো', 'পোলাপান', 'চোখ', 'কিভাবে'], ['এই', 'সরকার', 'কে', 'যারা', 'নির্লজ্জের', 'মত', 'সাপোর্ট', 'দিয়েছে', 'বছরের', 'পর', 'বছর', 'তাদের', 'আরো', 'এমন', 'রাস্তায়', 'রাস্তায়', 'কাঁদতে', 'হবে'], ['পিলখানা', 'হত্যাকান্ড', 'বাংলাদেশের', 'প্রতিরক্ষা', 'ব্যবস্থা', 'ধ্বংসের', 'জন্য', 'ভারতের', 'প্রত্যক্ষ', 'সহযোগিতায়', 'এই', 'হত্যাকা', 'ঘটানো', 'হয়েছিল'], ['ভারতের', 'অর্থনীতি', 'নিয়ে', 'আপনাদের', 'ভাবতে', 'হবে', 'না', 'ভারতের', 'অর্থনীতি', 'নিয়ে', 'ভারত', 'সরকার', 'আছে', 'আদার', 'বেপারী', 'জাহাজের', 'খোঁজ', 'নিয়ে', 'লাভ', 'নাই'], ['খানকির', 'পুলা', 'মালায়নদের', 'মেরে', 'সাফা', 'করে', 'ফেল'], ['শুয়োর', 'এর', 'বাচ্চা', 'দুরগারে', 'চুদি', 'কুত্তা', 'দিয়া', 'কালিরে', 'চুদি', 'পাঠা', 'দিয়া', 'তোর', 'মারে', 'চুদি', 'আমার', 'সোনা', 'দিয়া', 'সিং'], ['মাগীর', 'পাছায়', 'লাথি', 'মেরে', 'ওই', 'প্লাটফর্মে', 'রেখে', 'আসা', 'উচিত'], ['আমরা', 'তো', 'দেখলাম', 'ইউটিউব', 'এর', 'মাধ্যমে', 'গাড়ি', 'আওয়ামী', 'লীগ', 'এর', 'লোকজনে', 'পোড়ালো', 'অথচ', 'মামলা', 'করে', 'দিলো', 'বিএনপির', 'নামে'], ['সানিউর', 'কুত্তার', 'বাচ্চা', 'তুর', 'বোনেরে', 'চুদমু', 'তুর', 'কান্দে', 'ফালাইয়া', 'তুর', 'মাইরে', 'চুদমো', 'তুর', 'বাবার', 'কান্দে', 'ফালাইয়া', 'বান্দির', 'বাচ্চা', 'রেন্ডির', 'সন্তান'], ['ভারতে', 'মুসলমান', 'খেদাও', 'আন্দোলনের', 'নামে', 'প্রচার', 'করা', 'হচ্ছে', 'মুসলিম', 'বিদ্বেষী', 'পোস্টার', 'লিফলেট'], ['তারউপর', 'এটা', 'কেমন', 'টাইটেল', 'দিছস', 'তোর', 'ভিডিওর'], ['পেটের', 'জন্য', 'এই', 'নোংরা', 'কাজ', 'টা', 'না', 'করেও', 'অনেক', 'পথ', 'আছে', 'টাকা', 'ইনকাম', 'করার'], ['ভোট', 'ছাড়া', 'সংসদে', 'বসে', 'আছে', 'এখন', 'আওয়ামী', 'লীগের', 'নির্লজ্জ', 'এমপিরা', 'তাদের', 'চে', 'ভালো', 'আছে', 'হিরো', 'আলম'], ['রানু', 'এবং', 'তার', 'মেয়েকে', 'পাবনা', 'হাসপাতালে', 'পাঠাতে', 'হবে'], ['মাদারচোদ', 'শালারা', 'র্ধ্ম', 'নিয়া', 'ব্যবসা', 'করে'], ['আমি', 'চাইনা', 'ছাড়তে', 'ক্ষমতা', 'যতই', 'লাশ', 'হোক', 'জনতা'], ['তুমি', 'হাসিনা', 'জঙ্গিবাদ', 'উগ্রবাদ', 'রাজাকার', 'এই', 'সব', 'ডায়ালগ', 'মাইরা', 'আর', 'কতদিন', 'খাইবা', 'জনগনের', 'চাকরি', 'নাই', 'ভিসা', 'নাই', 'তবে', 'খাইতে', 'পারবা', 'কারন', 'জনগন', 'সব', 'হিজরা', 'হয়ে', 'গেছে'], ['শেখ', 'হাসিনার', 'উচিত', 'শফিউল্লাহর', 'বিচার', 'করা'], ['দেহ', 'ব্যবসায়ী', 'মমতাজ', 'যদি', 'সংসদ', 'সদস্য', 'হতেপারে', 'তাহলে', 'হিরো', 'আলম', 'হতে', 'পারবেনা', 'কেনো'], ['ঊর্বশীকে', 'দেখে', 'স্বমেহন', 'কবিরাজি', 'বাংলায়', 'হস্তমৈথুন', 'করতেন', 'ব্রহ্মা']]\n"
          ],
          "name": "stdout"
        }
      ]
    },
    {
      "cell_type": "code",
      "metadata": {
        "colab": {
          "base_uri": "https://localhost:8080/"
        },
        "id": "GSMLo9IrOUQO",
        "outputId": "724eb1f5-d4f3-463c-a50d-3b1377b62dc1"
      },
      "source": [
        "print(values[19])"
      ],
      "execution_count": 26,
      "outputs": [
        {
          "output_type": "stream",
          "text": [
            "['ঊর্বশীকে', 'দেখে', 'স্বমেহন', 'কবিরাজি', 'বাংলায়', 'হস্তমৈথুন', 'করতেন', 'ব্রহ্মা']\n"
          ],
          "name": "stdout"
        }
      ]
    },
    {
      "cell_type": "markdown",
      "metadata": {
        "id": "f094NlFjCMiQ"
      },
      "source": [
        "# Building the Word2vec Model"
      ]
    },
    {
      "cell_type": "code",
      "metadata": {
        "id": "MPelV6FGOUNX"
      },
      "source": [
        "model = Word2Vec(values, vector_size=100, window=5, min_count=5,workers=6,sg=0)"
      ],
      "execution_count": 27,
      "outputs": []
    },
    {
      "cell_type": "markdown",
      "metadata": {
        "id": "geSgsSiyCT9I"
      },
      "source": [
        "# Printing the most similar words with the given word"
      ]
    },
    {
      "cell_type": "code",
      "metadata": {
        "colab": {
          "base_uri": "https://localhost:8080/"
        },
        "id": "3uDY9DGfOr13",
        "outputId": "a3893191-5265-492e-b093-38cf41e43ce4"
      },
      "source": [
        "model.wv.most_similar('খেলা', topn=5)"
      ],
      "execution_count": 28,
      "outputs": [
        {
          "output_type": "execute_result",
          "data": {
            "text/plain": [
              "[('যদি', 0.9985167980194092),\n",
              " ('ছাড়া', 0.9985061287879944),\n",
              " ('একজন', 0.9984856247901917),\n",
              " ('দোষ', 0.9984705448150635),\n",
              " ('মধ্যে', 0.9984492063522339)]"
            ]
          },
          "metadata": {
            "tags": []
          },
          "execution_count": 28
        }
      ]
    },
    {
      "cell_type": "markdown",
      "metadata": {
        "id": "zSFUqqOcCaSZ"
      },
      "source": [
        "# Saving the Model"
      ]
    },
    {
      "cell_type": "code",
      "metadata": {
        "id": "ZX-fBe2YOryq"
      },
      "source": [
        "filename=\"embedding_word2vec.txt\"\n",
        "model.wv.save_word2vec_format(filename,binary=False)"
      ],
      "execution_count": 29,
      "outputs": []
    },
    {
      "cell_type": "code",
      "metadata": {
        "id": "jgAP_nebOrvv"
      },
      "source": [
        "import os\n",
        "\n",
        "embeddings_index={}\n",
        "f=open(os.path.join('','embedding_word2vec.txt'))\n",
        "for line in f:\n",
        "    value=line.split()\n",
        "    word=value[0]\n",
        "    coefs=np.asarray(value[1:])\n",
        "    embeddings_index[word]=coefs\n",
        "f.close()"
      ],
      "execution_count": 30,
      "outputs": []
    },
    {
      "cell_type": "code",
      "metadata": {
        "id": "HmrP9dplOrs2"
      },
      "source": [
        "max_length = max([len(s.split()) for s in data['text']])"
      ],
      "execution_count": 31,
      "outputs": []
    },
    {
      "cell_type": "code",
      "metadata": {
        "colab": {
          "base_uri": "https://localhost:8080/"
        },
        "id": "tCDg9P1dPpGG",
        "outputId": "91e7c5fc-1c7f-4835-95e1-6e423cf6885c"
      },
      "source": [
        "max_length"
      ],
      "execution_count": 32,
      "outputs": [
        {
          "output_type": "execute_result",
          "data": {
            "text/plain": [
              "101"
            ]
          },
          "metadata": {
            "tags": []
          },
          "execution_count": 32
        }
      ]
    },
    {
      "cell_type": "markdown",
      "metadata": {
        "id": "dS-_l4TtClXR"
      },
      "source": [
        "Indexing the words using Tokenizer()"
      ]
    },
    {
      "cell_type": "code",
      "metadata": {
        "id": "R9TBssteP3Q7"
      },
      "source": [
        "from tensorflow.python.keras.preprocessing.text import Tokenizer"
      ],
      "execution_count": 33,
      "outputs": []
    },
    {
      "cell_type": "code",
      "metadata": {
        "colab": {
          "base_uri": "https://localhost:8080/"
        },
        "id": "HxYe3O89PpDS",
        "outputId": "4b38f8eb-01f6-4eae-897a-7f16eb51a770"
      },
      "source": [
        "tokenizer_obj=Tokenizer()\n",
        "tokenizer_obj.fit_on_texts(data['text'])\n",
        "sequences = tokenizer_obj.texts_to_sequences(data['text'])\n",
        "\n",
        "word_index=tokenizer_obj.word_index\n",
        "print('Found %s unique tokens.'%len(word_index))\n"
      ],
      "execution_count": 34,
      "outputs": [
        {
          "output_type": "stream",
          "text": [
            "Found 17560 unique tokens.\n"
          ],
          "name": "stdout"
        }
      ]
    },
    {
      "cell_type": "code",
      "metadata": {
        "colab": {
          "base_uri": "https://localhost:8080/"
        },
        "id": "BhZtx4oJPo_o",
        "outputId": "3f90698a-dfbe-4df7-dfed-66d57c058834"
      },
      "source": [
        "len(word_index)"
      ],
      "execution_count": 35,
      "outputs": [
        {
          "output_type": "execute_result",
          "data": {
            "text/plain": [
              "17560"
            ]
          },
          "metadata": {
            "tags": []
          },
          "execution_count": 35
        }
      ]
    },
    {
      "cell_type": "code",
      "metadata": {
        "colab": {
          "base_uri": "https://localhost:8080/"
        },
        "id": "BO33ht0HCiyw",
        "outputId": "c9e6643b-aec8-4088-a604-cea61fc76f12"
      },
      "source": [
        "word_index"
      ],
      "execution_count": 39,
      "outputs": [
        {
          "output_type": "execute_result",
          "data": {
            "text/plain": [
              "{'না': 1,\n",
              " 'করে': 2,\n",
              " 'আর': 3,\n",
              " 'এই': 4,\n",
              " 'কি': 5,\n",
              " 'ভারত': 6,\n",
              " 'ভারতের': 7,\n",
              " 'কে': 8,\n",
              " 'হয়': 9,\n",
              " 'ও': 10,\n",
              " 'তো': 11,\n",
              " 'হবে': 12,\n",
              " 'যে': 13,\n",
              " 'জন্য': 14,\n",
              " 'কথা': 15,\n",
              " 'থেকে': 16,\n",
              " 'একটা': 17,\n",
              " 'আছে': 18,\n",
              " 'কোন': 19,\n",
              " 'করতে': 20,\n",
              " 'সাথে': 21,\n",
              " 'আমাদের': 22,\n",
              " 'সব': 23,\n",
              " 'এর': 24,\n",
              " 'বলে': 25,\n",
              " 'আমি': 26,\n",
              " 'করা': 27,\n",
              " 'তাদের': 28,\n",
              " 'তার': 29,\n",
              " 'তোর': 30,\n",
              " 'নাই': 31,\n",
              " 'দিয়ে': 32,\n",
              " 'বাংলাদেশের': 33,\n",
              " 'আমার': 34,\n",
              " 'কিছু': 35,\n",
              " 'মনে': 36,\n",
              " 'হয়ে': 37,\n",
              " 'নিয়ে': 38,\n",
              " 'তুই': 39,\n",
              " 'মুসলিম': 40,\n",
              " 'এখন': 41,\n",
              " 'যদি': 42,\n",
              " 'মানুষ': 43,\n",
              " 'দেশ': 44,\n",
              " 'মত': 45,\n",
              " 'বাংলাদেশ': 46,\n",
              " 'আমরা': 47,\n",
              " 'কেন': 48,\n",
              " 'ভারতে': 49,\n",
              " 'কিন্তু': 50,\n",
              " 'তাই': 51,\n",
              " 'তারা': 52,\n",
              " 'ভাই': 53,\n",
              " 'তোদের': 54,\n",
              " 'হিন্দু': 55,\n",
              " 'বাচ্চা': 56,\n",
              " 'ভালো': 57,\n",
              " 'নেই': 58,\n",
              " 'এটা': 59,\n",
              " 'এক': 60,\n",
              " 'দেশের': 61,\n",
              " 'করছে': 62,\n",
              " 'পারে': 63,\n",
              " 'এ': 64,\n",
              " 'বাংলাদেশে': 65,\n",
              " 'মালাউন': 66,\n",
              " 'এবং': 67,\n",
              " 'তাহলে': 68,\n",
              " 'হলে': 69,\n",
              " 'সে': 70,\n",
              " 'পাকিস্তান': 71,\n",
              " 'রাজাকার': 72,\n",
              " 'ধর্ম': 73,\n",
              " 'আবার': 74,\n",
              " 'ভারতীয়': 75,\n",
              " 'করার': 76,\n",
              " 'অনেক': 77,\n",
              " 'যায়': 78,\n",
              " 'বড়': 79,\n",
              " 'খানকির': 80,\n",
              " 'টা': 81,\n",
              " 'সরকার': 82,\n",
              " 'সেই': 83,\n",
              " 'ছিল': 84,\n",
              " 'হচ্ছে': 85,\n",
              " 'মাগি': 86,\n",
              " 'আগে': 87,\n",
              " 'রানু': 88,\n",
              " 'দেশে': 89,\n",
              " 'মতো': 90,\n",
              " 'কাছে': 91,\n",
              " 'উচিত': 92,\n",
              " 'তখন': 93,\n",
              " 'আপনি': 94,\n",
              " 'গেছে': 95,\n",
              " 'নয়': 96,\n",
              " 'টাকা': 97,\n",
              " 'মা': 98,\n",
              " 'দের': 99,\n",
              " 'করেছে': 100,\n",
              " 'দিতে': 101,\n",
              " 'বেশি': 102,\n",
              " 'কেউ': 103,\n",
              " 'পর': 104,\n",
              " 'আজ': 105,\n",
              " 'যারা': 106,\n",
              " 'দরকার': 107,\n",
              " 'যখন': 108,\n",
              " 'এত': 109,\n",
              " 'দেওয়া': 110,\n",
              " 'আপনার': 111,\n",
              " 'কোনো': 112,\n",
              " 'ঠিক': 113,\n",
              " 'চাই': 114,\n",
              " 'তা': 115,\n",
              " 'যাবে': 116,\n",
              " 'সবাই': 117,\n",
              " 'নাকি': 118,\n",
              " 'শুধু': 119,\n",
              " 'হত্যা': 120,\n",
              " 'হলো': 121,\n",
              " 'তোরা': 122,\n",
              " 'কাজ': 123,\n",
              " 'দিন': 124,\n",
              " 'করবে': 125,\n",
              " 'এমন': 126,\n",
              " 'সময়': 127,\n",
              " 'শালা': 128,\n",
              " 'এরা': 129,\n",
              " 'বন্ধ': 130,\n",
              " 'হাসিনা': 131,\n",
              " 'হোক': 132,\n",
              " 'ইসলাম': 133,\n",
              " 'খারাপ': 134,\n",
              " 'এদের': 135,\n",
              " 'ভাল': 136,\n",
              " 'ভাবে': 137,\n",
              " 'লীগ': 138,\n",
              " 'আওয়ামীলীগ': 139,\n",
              " 'একটি': 140,\n",
              " 'হয়েছে': 141,\n",
              " 'যা': 142,\n",
              " 'নিজের': 143,\n",
              " 'আওয়ামী': 144,\n",
              " 'মুসলমান': 145,\n",
              " 'কারন': 146,\n",
              " 'থাকে': 147,\n",
              " 'একজন': 148,\n",
              " 'ফাসি': 149,\n",
              " 'হতে': 150,\n",
              " 'মালাউনের': 151,\n",
              " 'মেরে': 152,\n",
              " 'মেয়ে': 153,\n",
              " 'দেখে': 154,\n",
              " 'নাম': 155,\n",
              " 'জন': 156,\n",
              " 'সেটা': 157,\n",
              " 'ওর': 158,\n",
              " 'মানুষের': 159,\n",
              " 'উপর': 160,\n",
              " 'কোটি': 161,\n",
              " 'তুমি': 162,\n",
              " 'দালাল': 163,\n",
              " 'ওরা': 164,\n",
              " 'ওদের': 165,\n",
              " 'হিন্দুদের': 166,\n",
              " 'দেয়': 167,\n",
              " 'মুখে': 168,\n",
              " 'শেখ': 169,\n",
              " 'বিচার': 170,\n",
              " 'তাকে': 171,\n",
              " 'কত': 172,\n",
              " 'নাস্তিক': 173,\n",
              " 'মারা': 174,\n",
              " 'শেষ': 175,\n",
              " 'মধ্যে': 176,\n",
              " 'বা': 177,\n",
              " 'করলে': 178,\n",
              " 'বলতে': 179,\n",
              " 'তবে': 180,\n",
              " 'তোমার': 181,\n",
              " 'বাল': 182,\n",
              " 'সালে': 183,\n",
              " 'ভিডিও': 184,\n",
              " 'আল্লাহ': 185,\n",
              " 'বাংলা': 186,\n",
              " 'রে': 187,\n",
              " 'তর': 188,\n",
              " 'হল': 189,\n",
              " 'হাজার': 190,\n",
              " 'অন্য': 191,\n",
              " 'জাতি': 192,\n",
              " 'মুসলিমদের': 193,\n",
              " 'খানকি': 194,\n",
              " 'থাকলে': 195,\n",
              " 'কোথায়': 196,\n",
              " 'কর': 197,\n",
              " 'খুব': 198,\n",
              " 'হয়': 199,\n",
              " 'পরে': 200,\n",
              " 'একটু': 201,\n",
              " 'দিয়া': 202,\n",
              " 'জুতা': 203,\n",
              " 'শুরু': 204,\n",
              " 'খালেদা': 205,\n",
              " 'পোলা': 206,\n",
              " 'লাগে': 207,\n",
              " 'বাংলার': 208,\n",
              " 'করি': 209,\n",
              " 'আরে': 210,\n",
              " 'খবর': 211,\n",
              " 'পাগল': 212,\n",
              " 'চলে': 213,\n",
              " 'পারবে': 214,\n",
              " 'সরকারের': 215,\n",
              " 'রা': 216,\n",
              " 'কুত্তার': 217,\n",
              " 'দুই': 218,\n",
              " 'নেতা': 219,\n",
              " 'বি': 220,\n",
              " 'যুদ্ধ': 221,\n",
              " 'অবস্থা': 222,\n",
              " 'দেখতে': 223,\n",
              " 'লোক': 224,\n",
              " 'কারণ': 225,\n",
              " 'ঐ': 226,\n",
              " 'বের': 227,\n",
              " 'আশ্রয়': 228,\n",
              " 'ধরে': 229,\n",
              " 'যাচ্ছে': 230,\n",
              " 'পাকিস্তানের': 231,\n",
              " 'সালা': 232,\n",
              " 'মুসলমানদের': 233,\n",
              " 'আসলে': 234,\n",
              " 'ছেলে': 235,\n",
              " 'হাতে': 236,\n",
              " 'আপনাদের': 237,\n",
              " 'দল': 238,\n",
              " 'মন্ডল': 239,\n",
              " 'চায়': 240,\n",
              " 'মাগির': 241,\n",
              " 'মাথা': 242,\n",
              " 'ছাত্রলীগ': 243,\n",
              " 'এতো': 244,\n",
              " 'জন্ম': 245,\n",
              " 'মাগী': 246,\n",
              " 'ওই': 247,\n",
              " 'দেখা': 248,\n",
              " 'দিয়ে': 249,\n",
              " 'ভারতকে': 250,\n",
              " 'ধর্মের': 251,\n",
              " 'আরো': 252,\n",
              " 'নামে': 253,\n",
              " 'গুলো': 254,\n",
              " 'দেয়া': 255,\n",
              " 'মানে': 256,\n",
              " 'জঙ্গি': 257,\n",
              " 'জানে': 258,\n",
              " 'দাদা': 259,\n",
              " 'করেন': 260,\n",
              " 'উচিৎ': 261,\n",
              " 'এসব': 262,\n",
              " 'কিছুই': 263,\n",
              " 'অবৈধ': 264,\n",
              " 'বিরুদ্ধে': 265,\n",
              " 'কুত্তা': 266,\n",
              " 'ভোট': 267,\n",
              " 'সাহায্য': 268,\n",
              " 'মার': 269,\n",
              " 'শিবির': 270,\n",
              " 'থাকবে': 271,\n",
              " 'ছাড়া': 272,\n",
              " 'হাত': 273,\n",
              " 'এটাই': 274,\n",
              " 'ছি': 275,\n",
              " 'চোর': 276,\n",
              " 'বাবা': 277,\n",
              " 'হয়ে': 278,\n",
              " 'কিভাবে': 279,\n",
              " 'নিয়ে': 280,\n",
              " 'লীগের': 281,\n",
              " 'বাপ': 282,\n",
              " 'প্রতি': 283,\n",
              " 'রোহিঙ্গাদের': 284,\n",
              " 'গুলি': 285,\n",
              " 'থাকতে': 286,\n",
              " 'পুলিশ': 287,\n",
              " 'আসে': 288,\n",
              " 'মারে': 289,\n",
              " 'মন': 290,\n",
              " 'জিয়া': 291,\n",
              " 'ই': 292,\n",
              " 'হাসিনার': 293,\n",
              " 'ভুল': 294,\n",
              " 'নষ্ট': 295,\n",
              " 'দিলে': 296,\n",
              " 'গান': 297,\n",
              " 'যত': 298,\n",
              " 'আপনারা': 299,\n",
              " 'এসে': 300,\n",
              " 'গিয়ে': 301,\n",
              " 'ছিলো': 302,\n",
              " 'লাভ': 303,\n",
              " 'মহিলা': 304,\n",
              " 'বলা': 305,\n",
              " 'দেখলে': 306,\n",
              " 'বিয়ে': 307,\n",
              " 'নি': 308,\n",
              " 'দিবে': 309,\n",
              " 'হিন্দুরা': 310,\n",
              " 'চেয়ে': 311,\n",
              " 'মালাউনদের': 312,\n",
              " 'যেন': 313,\n",
              " 'খেয়ে': 314,\n",
              " 'গরুর': 315,\n",
              " 'দিয়েছে': 316,\n",
              " 'সকল': 317,\n",
              " 'বল': 318,\n",
              " 'দিকে': 319,\n",
              " 'জাত': 320,\n",
              " 'গরু': 321,\n",
              " 'তে': 322,\n",
              " 'বন্ধু': 323,\n",
              " 'যার': 324,\n",
              " 'চুদি': 325,\n",
              " 'অথচ': 326,\n",
              " 'বসে': 327,\n",
              " 'যেমন': 328,\n",
              " 'প্রকাশ': 329,\n",
              " 'চুরি': 330,\n",
              " 'লজ্জা': 331,\n",
              " 'রেন্ডিয়ার': 332,\n",
              " 'সারা': 333,\n",
              " 'হা': 334,\n",
              " 'মন্ত্রী': 335,\n",
              " 'কেনো': 336,\n",
              " 'এখানে': 337,\n",
              " 'সামনে': 338,\n",
              " 'টাকার': 339,\n",
              " 'দেখি': 340,\n",
              " 'তোমাদের': 341,\n",
              " 'জীবন': 342,\n",
              " '৷': 343,\n",
              " 'সত্য': 344,\n",
              " 'জারজ': 345,\n",
              " 'তাতে': 346,\n",
              " 'তোকে': 347,\n",
              " 'জায়গা': 348,\n",
              " 'নিতে': 349,\n",
              " 'সমস্যা': 350,\n",
              " 'বেইমান': 351,\n",
              " 'দাও': 352,\n",
              " 'গেল': 353,\n",
              " 'ছোট': 354,\n",
              " 'বিএনপি': 355,\n",
              " 'সন্ত্রাসী': 356,\n",
              " 'দিল': 357,\n",
              " 'নির্বাচন': 358,\n",
              " 'কিনা': 359,\n",
              " 'বোন': 360,\n",
              " 'দুধ': 361,\n",
              " 'কেমন': 362,\n",
              " 'বাচ্চারা': 363,\n",
              " 'করবেন': 364,\n",
              " 'দলের': 365,\n",
              " 'হতো': 366,\n",
              " 'দে': 367,\n",
              " 'রেন্ডিয়া': 368,\n",
              " 'নতুন': 369,\n",
              " 'গেলে': 370,\n",
              " 'রোহিঙ্গা': 371,\n",
              " 'তুলে': 372,\n",
              " 'ভিক্ষা': 373,\n",
              " 'ওকে': 374,\n",
              " 'বলেন': 375,\n",
              " 'এবার': 376,\n",
              " 'চীন': 377,\n",
              " 'বিরোধী': 378,\n",
              " 'বছর': 379,\n",
              " 'নিজেদের': 380,\n",
              " 'তিনি': 381,\n",
              " 'ফালতু': 382,\n",
              " 'বলছে': 383,\n",
              " 'পা': 384,\n",
              " 'প্রমান': 385,\n",
              " 'দোষ': 386,\n",
              " 'কখনো': 387,\n",
              " 'সেনা': 388,\n",
              " 'তারেক': 389,\n",
              " 'মেয়েদের': 390,\n",
              " 'সন্তান': 391,\n",
              " 'ক্ষমতা': 392,\n",
              " 'বলেছেন': 393,\n",
              " 'বিশ্বাস': 394,\n",
              " 'জানি': 395,\n",
              " 'জয়': 396,\n",
              " 'পারলে': 397,\n",
              " 'মিথ্যা': 398,\n",
              " 'পড়ে': 399,\n",
              " 'ভয়': 400,\n",
              " 'মানুষকে': 401,\n",
              " 'পায়': 402,\n",
              " 'খুলে': 403,\n",
              " 'আওয়ামী': 404,\n",
              " 'কম': 405,\n",
              " 'জায়গায়': 406,\n",
              " 'চোদা': 407,\n",
              " 'বানিয়ে': 408,\n",
              " 'খুন': 409,\n",
              " 'পৃথিবীর': 410,\n",
              " 'রান': 411,\n",
              " 'হত': 412,\n",
              " 'নাটক': 413,\n",
              " 'প্রতিবাদ': 414,\n",
              " 'কুকুরের': 415,\n",
              " 'ছাত্র': 416,\n",
              " 'হক': 417,\n",
              " 'করো': 418,\n",
              " 'দিছে': 419,\n",
              " 'কী': 420,\n",
              " 'জামায়াত': 421,\n",
              " 'আওয়ামীলীগের': 422,\n",
              " 'ছবি': 423,\n",
              " 'ছেড়ে': 424,\n",
              " 'চুদে': 425,\n",
              " 'উনি': 426,\n",
              " 'দেখ': 427,\n",
              " 'সম্পর্ক': 428,\n",
              " 'করুন': 429,\n",
              " 'ছিঃ': 430,\n",
              " 'রাষ্ট্র': 431,\n",
              " 'যেই': 432,\n",
              " 'রাস্তায়': 433,\n",
              " 'নিয়া': 434,\n",
              " 'বেশী': 435,\n",
              " 'গালি': 436,\n",
              " 'জামাত': 437,\n",
              " 'রাজাকারের': 438,\n",
              " 'বার': 439,\n",
              " 'হওয়া': 440,\n",
              " 'চ্যানেল': 441,\n",
              " 'লাথি': 442,\n",
              " 'কুকুর': 443,\n",
              " 'ধ্বংস': 444,\n",
              " 'হওয়ার': 445,\n",
              " 'সেক্স': 446,\n",
              " 'হিসেবে': 447,\n",
              " 'পর্যন্ত': 448,\n",
              " 'প্রধান': 449,\n",
              " 'করেছিল': 450,\n",
              " 'সবার': 451,\n",
              " 'একদিন': 452,\n",
              " 'যাদের': 453,\n",
              " 'মাহি': 454,\n",
              " 'শিক্ষা': 455,\n",
              " 'খায়': 456,\n",
              " 'ছাগল': 457,\n",
              " 'রাজনীতি': 458,\n",
              " 'খেতে': 459,\n",
              " 'রকম': 460,\n",
              " 'কই': 461,\n",
              " 'সবচেয়ে': 462,\n",
              " 'নামের': 463,\n",
              " 'আপনাকে': 464,\n",
              " 'প্রধানমন্ত্রী': 465,\n",
              " 'মুসলিমরা': 466,\n",
              " 'গুলা': 467,\n",
              " 'মাথায়': 468,\n",
              " 'আবাল': 469,\n",
              " 'মাল': 470,\n",
              " 'বলবে': 471,\n",
              " 'এন': 472,\n",
              " 'শিবিরের': 473,\n",
              " 'তোমরা': 474,\n",
              " 'এগুলো': 475,\n",
              " 'সেখানে': 476,\n",
              " 'এইসব': 477,\n",
              " 'তিন': 478,\n",
              " 'ক্ষমতায়': 479,\n",
              " 'বলছি': 480,\n",
              " 'হামলা': 481,\n",
              " 'প্রথম': 482,\n",
              " 'পি': 483,\n",
              " 'এরকম': 484,\n",
              " 'সুন্দর': 485,\n",
              " 'পাবে': 486,\n",
              " 'ট্রেন': 487,\n",
              " 'মুখ': 488,\n",
              " 'বাজে': 489,\n",
              " 'তদের': 490,\n",
              " 'ইসলামের': 491,\n",
              " 'বড়': 492,\n",
              " 'জিয়ার': 493,\n",
              " 'তোরে': 494,\n",
              " 'পুলা': 495,\n",
              " 'বাংলাদেশকে': 496,\n",
              " 'মাদার': 497,\n",
              " 'নিজেকে': 498,\n",
              " 'মিডিয়া': 499,\n",
              " 'টি': 500,\n",
              " 'পাশে': 501,\n",
              " 'নিষিদ্ধ': 502,\n",
              " 'নারী': 503,\n",
              " 'বর্তমান': 504,\n",
              " 'ভুলে': 505,\n",
              " 'হবেনা': 506,\n",
              " 'মাত্র': 507,\n",
              " 'যায়': 508,\n",
              " 'প্রশ্ন': 509,\n",
              " 'যেখানে': 510,\n",
              " 'র': 511,\n",
              " 'দিচ্ছে': 512,\n",
              " 'এদেশে': 513,\n",
              " 'সুযোগ': 514,\n",
              " 'মাধ্যমে': 515,\n",
              " 'কার': 516,\n",
              " 'বাদ': 517,\n",
              " 'নির্যাতন': 518,\n",
              " 'চিন্তা': 519,\n",
              " 'নিচে': 520,\n",
              " 'পাওয়া': 521,\n",
              " 'বালের': 522,\n",
              " 'মজা': 523,\n",
              " 'রক্ত': 524,\n",
              " 'থাকা': 525,\n",
              " 'মালাউনরা': 526,\n",
              " 'লক্ষ': 527,\n",
              " 'আগুন': 528,\n",
              " 'খুশি': 529,\n",
              " 'কথায়': 530,\n",
              " 'স্বাধীন': 531,\n",
              " 'মাকে': 532,\n",
              " 'পানি': 533,\n",
              " 'ধর্মে': 534,\n",
              " 'নোংরা': 535,\n",
              " 'মাদারচোদ': 536,\n",
              " 'মায়ের': 537,\n",
              " 'ধর্ষণ': 538,\n",
              " 'বলার': 539,\n",
              " 'নিজেই': 540,\n",
              " 'দেবে': 541,\n",
              " 'সোনার': 542,\n",
              " 'ত': 543,\n",
              " 'সম্পর্কে': 544,\n",
              " 'যাই': 545,\n",
              " 'নিজে': 546,\n",
              " 'লাখ': 547,\n",
              " 'নিউজ': 548,\n",
              " 'শোক': 549,\n",
              " 'পিছনে': 550,\n",
              " 'বাংলাদেশী': 551,\n",
              " 'কারনে': 552,\n",
              " 'এখনো': 553,\n",
              " 'তুর': 554,\n",
              " 'বললে': 555,\n",
              " 'বাচ্ছা': 556,\n",
              " 'ধন্যবাদ': 557,\n",
              " 'ঘটনা': 558,\n",
              " 'হয়না': 559,\n",
              " 'তরে': 560,\n",
              " 'আচ্ছা': 561,\n",
              " 'পারেন': 562,\n",
              " 'জাতীয়': 563,\n",
              " 'মেয়েরা': 564,\n",
              " 'পারি': 565,\n",
              " 'মায়ানমার': 566,\n",
              " 'প্রমাণ': 567,\n",
              " 'জাকির': 568,\n",
              " 'পারেনা': 569,\n",
              " 'মালু': 570,\n",
              " 'দেশকে': 571,\n",
              " 'দিমু': 572,\n",
              " 'মাঝে': 573,\n",
              " 'যুবলীগ': 574,\n",
              " 'বলেছে': 575,\n",
              " 'ঘরে': 576,\n",
              " 'কিসের': 577,\n",
              " 'হিসাবে': 578,\n",
              " 'এতে': 579,\n",
              " 'ওরে': 580,\n",
              " 'শান্তি': 581,\n",
              " 'অপু': 582,\n",
              " 'মায়ানমারে': 583,\n",
              " 'আসবে': 584,\n",
              " 'সিরিয়াল': 585,\n",
              " 'ভারতীয়': 586,\n",
              " 'জ্ঞান': 587,\n",
              " 'মায়ানমারের': 588,\n",
              " 'খালি': 589,\n",
              " 'বাংলাদেশি': 590,\n",
              " 'সঙ্গে': 591,\n",
              " 'সাধারণ': 592,\n",
              " 'পতন': 593,\n",
              " 'হে': 594,\n",
              " 'আরও': 595,\n",
              " 'চলছে': 596,\n",
              " 'থাকার': 597,\n",
              " 'এভাবে': 598,\n",
              " 'করলো': 599,\n",
              " 'জুতো': 600,\n",
              " 'ভাগ': 601,\n",
              " 'তারপর': 602,\n",
              " 'বুঝতে': 603,\n",
              " 'নয়': 604,\n",
              " 'পুলিশের': 605,\n",
              " 'ইতিহাস': 606,\n",
              " 'খাওয়ার': 607,\n",
              " 'একদম': 608,\n",
              " 'করিস': 609,\n",
              " 'মেয়ের': 610,\n",
              " 'ব্যবহার': 611,\n",
              " 'ভারতীয়রা': 612,\n",
              " 'পক্ষে': 613,\n",
              " 'দেন': 614,\n",
              " 'কাঁদে': 615,\n",
              " 'আজকে': 616,\n",
              " 'জনগণ': 617,\n",
              " 'করছেন': 618,\n",
              " 'লাগবে': 619,\n",
              " 'আয়': 620,\n",
              " 'দেব': 621,\n",
              " 'মাগীর': 622,\n",
              " 'বাবার': 623,\n",
              " 'প্রচার': 624,\n",
              " 'লাশ': 625,\n",
              " 'দেখুন': 626,\n",
              " 'বরং': 627,\n",
              " 'রানুর': 628,\n",
              " 'ভিখারি': 629,\n",
              " 'হলেও': 630,\n",
              " 'যাক': 631,\n",
              " 'কবে': 632,\n",
              " 'সাংবাদিক': 633,\n",
              " 'খান': 634,\n",
              " 'করেছেন': 635,\n",
              " 'চুদা': 636,\n",
              " 'জিনিস': 637,\n",
              " 'উপরে': 638,\n",
              " 'ধরনের': 639,\n",
              " 'মুসলমানের': 640,\n",
              " 'করছি': 641,\n",
              " 'তাদেরকে': 642,\n",
              " 'কতো': 643,\n",
              " 'কমেন্ট': 644,\n",
              " 'যেভাবে': 645,\n",
              " 'দাবি': 646,\n",
              " 'পেয়ে': 647,\n",
              " 'মরে': 648,\n",
              " 'নির্যাতিত': 649,\n",
              " 'কারণে': 650,\n",
              " 'সহ': 651,\n",
              " 'ধর্ষন': 652,\n",
              " 'শত্রু': 653,\n",
              " 'খাওয়া': 654,\n",
              " 'যেতে': 655,\n",
              " 'তরা': 656,\n",
              " 'হউক': 657,\n",
              " 'মরলে': 658,\n",
              " 'বিনা': 659,\n",
              " 'পথে': 660,\n",
              " 'চেষ্টা': 661,\n",
              " 'বঙ্গবন্ধু': 662,\n",
              " 'খেলে': 663,\n",
              " 'কা': 664,\n",
              " 'কয়': 665,\n",
              " 'আমির': 666,\n",
              " 'হইছে': 667,\n",
              " 'তোমাকে': 668,\n",
              " 'অধিকার': 669,\n",
              " 'অহংকার': 670,\n",
              " 'চীনের': 671,\n",
              " 'সাহস': 672,\n",
              " 'আইন': 673,\n",
              " 'বিশ্ব': 674,\n",
              " 'আল্লাহর': 675,\n",
              " 'মেয়ে': 676,\n",
              " 'গো': 677,\n",
              " 'আসছে': 678,\n",
              " 'আগের': 679,\n",
              " 'কেটে': 680,\n",
              " 'বাহিনী': 681,\n",
              " 'বাস': 682,\n",
              " 'করতেছে': 683,\n",
              " 'শত': 684,\n",
              " 'মুত': 685,\n",
              " 'চুপ': 686,\n",
              " 'একবার': 687,\n",
              " 'বছরের': 688,\n",
              " 'জনগন': 689,\n",
              " 'যাওয়া': 690,\n",
              " 'জাতির': 691,\n",
              " 'ধরা': 692,\n",
              " 'বাড়ি': 693,\n",
              " 'শয়তান': 694,\n",
              " 'আছি': 695,\n",
              " 'বেশ্যা': 696,\n",
              " 'হত্যার': 697,\n",
              " 'পাক': 698,\n",
              " 'করব': 699,\n",
              " 'রেপ': 700,\n",
              " 'বোনদের': 701,\n",
              " 'কাউকে': 702,\n",
              " 'বোনের': 703,\n",
              " 'ভাত': 704,\n",
              " 'করল': 705,\n",
              " 'পেটে': 706,\n",
              " 'ফাঁসি': 707,\n",
              " 'ভিখারী': 708,\n",
              " 'মারার': 709,\n",
              " 'অপরাধ': 710,\n",
              " 'খুবই': 711,\n",
              " 'পৃথিবীতে': 712,\n",
              " 'বেটা': 713,\n",
              " 'সীমান্তে': 714,\n",
              " 'সত্যি': 715,\n",
              " 'সঠিক': 716,\n",
              " 'সোনা': 717,\n",
              " 'পেটের': 718,\n",
              " 'পারবেনা': 719,\n",
              " 'পরিচয়': 720,\n",
              " 'দালালি': 721,\n",
              " 'এসেছে': 722,\n",
              " 'অত্যাচার': 723,\n",
              " 'পুটকি': 724,\n",
              " 'কইরা': 725,\n",
              " 'তাও': 726,\n",
              " 'আসলেই': 727,\n",
              " 'দেওয়ার': 728,\n",
              " 'শুনে': 729,\n",
              " 'সিনেমা': 730,\n",
              " 'এগিয়ে': 731,\n",
              " 'এদেশের': 732,\n",
              " 'ছিলেন': 733,\n",
              " 'যান': 734,\n",
              " 'রাখা': 735,\n",
              " 'বলবো': 736,\n",
              " 'তুলনা': 737,\n",
              " 'গেলো': 738,\n",
              " 'সমান': 739,\n",
              " 'বলি': 740,\n",
              " 'কাছ': 741,\n",
              " 'নিহত': 742,\n",
              " 'আসল': 743,\n",
              " 'বিষয়': 744,\n",
              " 'চোরের': 745,\n",
              " 'দখল': 746,\n",
              " 'বাশ': 747,\n",
              " 'যাতে': 748,\n",
              " 'আমাকে': 749,\n",
              " 'লাগছে': 750,\n",
              " 'সম্ভব': 751,\n",
              " 'রাজাকারদের': 752,\n",
              " 'বাঁশ': 753,\n",
              " 'এইটা': 754,\n",
              " 'হালার': 755,\n",
              " 'স্বাধীনতা': 756,\n",
              " 'ঘেউ': 757,\n",
              " 'রেখে': 758,\n",
              " 'আসা': 759,\n",
              " 'দেখলাম': 760,\n",
              " 'ব্যবসা': 761,\n",
              " 'যতই': 762,\n",
              " 'জানোয়ার': 763,\n",
              " 'জবাব': 764,\n",
              " 'ছাত্রলীগের': 765,\n",
              " 'ছেলেরা': 766,\n",
              " 'চলবে': 767,\n",
              " 'রাতে': 768,\n",
              " 'শহীদ': 769,\n",
              " 'উঠে': 770,\n",
              " 'মন্তব্য': 771,\n",
              " 'জবাই': 772,\n",
              " 'বৌদ্ধ': 773,\n",
              " 'হয়তো': 774,\n",
              " 'পুত': 775,\n",
              " 'প্রেম': 776,\n",
              " 'পাইলে': 777,\n",
              " 'দেওয়া': 778,\n",
              " 'কাম': 779,\n",
              " 'বাঙালি': 780,\n",
              " 'পুরো': 781,\n",
              " 'চোদ': 782,\n",
              " 'আন্দোলন': 783,\n",
              " 'হারাম': 784,\n",
              " 'ওপর': 785,\n",
              " 'মেনে': 786,\n",
              " 'ভাব': 787,\n",
              " 'প্রতিদিন': 788,\n",
              " 'ভাষা': 789,\n",
              " 'তেমনি': 790,\n",
              " 'দিনের': 791,\n",
              " 'তেল': 792,\n",
              " 'জুতার': 793,\n",
              " 'কষ্ট': 794,\n",
              " 'হায়রে': 795,\n",
              " 'আমেরিকা': 796,\n",
              " 'অস্ত্র': 797,\n",
              " 'আশা': 798,\n",
              " 'মুক্তিযোদ্ধা': 799,\n",
              " 'টিভি': 800,\n",
              " 'দিয়েছে': 801,\n",
              " 'হাতি': 802,\n",
              " 'ঘৃণা': 803,\n",
              " 'খোলা': 804,\n",
              " 'বিভিন্ন': 805,\n",
              " 'পুজা': 806,\n",
              " 'পালন': 807,\n",
              " 'যোগ্যতা': 808,\n",
              " 'ভগবান': 809,\n",
              " 'রাখতে': 810,\n",
              " 'চোখ': 811,\n",
              " 'জনগনের': 812,\n",
              " 'হয়েছে': 813,\n",
              " 'জানেন': 814,\n",
              " 'মানবতার': 815,\n",
              " 'চোখে': 816,\n",
              " 'রাজনৈতিক': 817,\n",
              " 'নিশ্চিত': 818,\n",
              " 'দিত': 819,\n",
              " 'বলছেন': 820,\n",
              " 'দিক': 821,\n",
              " 'কাদের': 822,\n",
              " 'জোর': 823,\n",
              " 'মাটিতে': 824,\n",
              " 'বুকে': 825,\n",
              " 'খুনি': 826,\n",
              " 'শালার': 827,\n",
              " 'শুয়োরের': 828,\n",
              " 'লোকের': 829,\n",
              " 'কাফের': 830,\n",
              " 'মাথায়': 831,\n",
              " 'বুঝে': 832,\n",
              " 'ফেলা': 833,\n",
              " 'বর্তমানে': 834,\n",
              " 'পো': 835,\n",
              " 'চরিত্র': 836,\n",
              " 'খেলা': 837,\n",
              " 'কারো': 838,\n",
              " 'মুসলমানরা': 839,\n",
              " 'ভেবে': 840,\n",
              " 'মূর্খ': 841,\n",
              " 'আলেম': 842,\n",
              " 'শালী': 843,\n",
              " 'জন্যই': 844,\n",
              " 'দেয়ার': 845,\n",
              " 'লাল': 846,\n",
              " 'ক্ষতি': 847,\n",
              " 'সমালোচনা': 848,\n",
              " 'করবি': 849,\n",
              " 'পাছায়': 850,\n",
              " 'অপমান': 851,\n",
              " 'হুমকি': 852,\n",
              " 'মুক্ত': 853,\n",
              " 'চিন': 854,\n",
              " 'নুনু': 855,\n",
              " 'ভয়ে': 856,\n",
              " 'বলবেন': 857,\n",
              " 'দি': 858,\n",
              " 'দেখবেন': 859,\n",
              " 'দেখার': 860,\n",
              " 'জামাতের': 861,\n",
              " 'সাকিব': 862,\n",
              " 'বাপের': 863,\n",
              " 'নিজ': 864,\n",
              " 'সীমান্ত': 865,\n",
              " 'গত': 866,\n",
              " 'শক্তি': 867,\n",
              " 'হয়েছিল': 868,\n",
              " 'ছাড়া': 869,\n",
              " 'মেয়েকে': 870,\n",
              " 'বাংলায়': 871,\n",
              " 'এজন্য': 872,\n",
              " 'কোরআন': 873,\n",
              " 'কতটা': 874,\n",
              " 'কালো': 875,\n",
              " 'সমস্ত': 876,\n",
              " 'একই': 877,\n",
              " 'করত': 878,\n",
              " 'তেমন': 879,\n",
              " 'করলেই': 880,\n",
              " 'যেত': 881,\n",
              " 'চালিয়ে': 882,\n",
              " 'নাস্তিকদের': 883,\n",
              " 'ঘুম': 884,\n",
              " 'নাম্বার': 885,\n",
              " 'বাচ্চার': 886,\n",
              " 'পাগলের': 887,\n",
              " 'ভিখারির': 888,\n",
              " 'ব্যাপারে': 889,\n",
              " 'শুনলে': 890,\n",
              " 'পারতো': 891,\n",
              " 'খাইছে': 892,\n",
              " 'আরেক': 893,\n",
              " 'উত্তর': 894,\n",
              " 'চুদতে': 895,\n",
              " 'চাইতে': 896,\n",
              " 'সম্মান': 897,\n",
              " 'বেগম': 898,\n",
              " 'সমাজ': 899,\n",
              " 'যাওয়ার': 900,\n",
              " 'রাস্তা': 901,\n",
              " 'অসহায়': 902,\n",
              " 'করলেও': 903,\n",
              " 'পাকিস্তানে': 904,\n",
              " 'কয়েক': 905,\n",
              " 'ইচ্ছা': 906,\n",
              " 'দিনে': 907,\n",
              " 'হ': 908,\n",
              " 'অন্যের': 909,\n",
              " 'ফিরে': 910,\n",
              " 'তৈরি': 911,\n",
              " 'কুত্তালীগ': 912,\n",
              " 'গরম': 913,\n",
              " 'বিএসএফ': 914,\n",
              " 'মুখের': 915,\n",
              " 'কিছুদিন': 916,\n",
              " 'দায়ে': 917,\n",
              " 'মিয়ানমারের': 918,\n",
              " 'তাঁর': 919,\n",
              " 'মান': 920,\n",
              " 'যুদ্ধে': 921,\n",
              " 'থেকেও': 922,\n",
              " 'পায়ের': 923,\n",
              " 'এমনি': 924,\n",
              " 'নবী': 925,\n",
              " 'বলো': 926,\n",
              " 'রক্ষা': 927,\n",
              " 'শিশু': 928,\n",
              " 'দায়ী': 929,\n",
              " 'ভাইরাল': 930,\n",
              " 'সালারা': 931,\n",
              " 'ইংল্যান্ড': 932,\n",
              " 'দেখেন': 933,\n",
              " 'আলাদা': 934,\n",
              " 'মুছে': 935,\n",
              " 'কাজে': 936,\n",
              " 'যৌন': 937,\n",
              " 'কাকে': 938,\n",
              " 'রাস্তার': 939,\n",
              " 'কোথাকার': 940,\n",
              " 'ইনশাআল্লাহ': 941,\n",
              " 'মদ': 942,\n",
              " 'সাহেব': 943,\n",
              " 'পক্ষ': 944,\n",
              " 'কিংবা': 945,\n",
              " 'জেলে': 946,\n",
              " 'খুঁজে': 947,\n",
              " 'নেতাদের': 948,\n",
              " 'পতিতা': 949,\n",
              " 'গলায়': 950,\n",
              " 'হবেই': 951,\n",
              " 'রানে': 952,\n",
              " 'অথবা': 953,\n",
              " 'যুক্তি': 954,\n",
              " 'তবুও': 955,\n",
              " 'ঢাকা': 956,\n",
              " 'ফাসির': 957,\n",
              " 'ভালোবাসা': 958,\n",
              " 'নাগরিক': 959,\n",
              " 'স্বাভাবিক': 960,\n",
              " 'মহান': 961,\n",
              " 'ফিরিয়ে': 962,\n",
              " 'খেলার': 963,\n",
              " 'মুক্তিযুদ্ধের': 964,\n",
              " 'রেন্ডিয়ান': 965,\n",
              " 'আগেই': 966,\n",
              " 'সৃষ্টি': 967,\n",
              " 'ধর্মকে': 968,\n",
              " 'শালারা': 969,\n",
              " 'মাইরা': 970,\n",
              " 'চাকরি': 971,\n",
              " 'জানতে': 972,\n",
              " 'পারবেন': 973,\n",
              " 'কেমনে': 974,\n",
              " 'মোদী': 975,\n",
              " 'গিয়ে': 976,\n",
              " 'পরিনত': 977,\n",
              " 'বার্মার': 978,\n",
              " 'বলেই': 979,\n",
              " 'সংখ্যালঘু': 980,\n",
              " 'গুম': 981,\n",
              " 'চরম': 982,\n",
              " 'সবাইকে': 983,\n",
              " 'লেখা': 984,\n",
              " 'পাকিস্তানি': 985,\n",
              " 'একমাত্র': 986,\n",
              " 'মারছে': 987,\n",
              " 'তারাই': 988,\n",
              " 'মৃত্যু': 989,\n",
              " 'নজর': 990,\n",
              " 'শাসন': 991,\n",
              " 'দশ': 992,\n",
              " 'একে': 993,\n",
              " 'দলে': 994,\n",
              " 'যতো': 995,\n",
              " 'কথার': 996,\n",
              " 'পেলে': 997,\n",
              " 'পছন্দ': 998,\n",
              " 'দিলেন': 999,\n",
              " 'ফেলে': 1000,\n",
              " ...}"
            ]
          },
          "metadata": {
            "tags": []
          },
          "execution_count": 39
        }
      ]
    },
    {
      "cell_type": "markdown",
      "metadata": {
        "id": "cylcANeJCssW"
      },
      "source": [
        "# PLotting the TSNE Visualization"
      ]
    },
    {
      "cell_type": "markdown",
      "metadata": {
        "id": "ETdUj9dYC68G"
      },
      "source": [
        "\n",
        "t-Distributed Stochastic Neighbor Embedding (t-SNE) is an unsupervised, non-linear technique primarily used for data exploration and visualizing high-dimensional data.\n"
      ]
    },
    {
      "cell_type": "code",
      "metadata": {
        "id": "CF-HJnsH9-n2"
      },
      "source": [
        "def display_closestwords_tsnescatterplot(model, word, size):\n",
        "    \n",
        "    arr = np.empty((0,size), dtype='f')\n",
        "    word_labels = [word]\n",
        "    close_words = model.wv.similar_by_word(word)\n",
        "    arr = np.append(arr, np.array([model.wv[word]]), axis=0)\n",
        "    for wrd_score in close_words:\n",
        "        wrd_vector = model.wv[wrd_score[0]]\n",
        "        word_labels.append(wrd_score[0])\n",
        "        arr = np.append(arr, np.array([wrd_vector]), axis=0)\n",
        "        \n",
        "    tsne = TSNE(n_components=2, random_state=0)\n",
        "    np.set_printoptions(suppress=True)\n",
        "    Y = tsne.fit_transform(arr)\n",
        "    x_coords = Y[:, 0]\n",
        "    y_coords = Y[:, 1]\n",
        "    plt.scatter(x_coords, y_coords)\n",
        "    for label, x, y in zip(word_labels, x_coords, y_coords):\n",
        "        plt.annotate(label, xy=(x, y), xytext=(0, 0), textcoords='offset points')\n",
        "    plt.xlim(x_coords.min()+0.00005, x_coords.max()+0.00005)\n",
        "    plt.ylim(y_coords.min()+0.00005, y_coords.max()+0.00005)\n",
        "    plt.title('T-SNE')\n",
        "    plt.savefig('tsne.jpg')\n",
        "    plt.show()"
      ],
      "execution_count": 36,
      "outputs": []
    },
    {
      "cell_type": "markdown",
      "metadata": {
        "id": "VGKpHBKcC1lz"
      },
      "source": [
        "Plotting for a particular word"
      ]
    },
    {
      "cell_type": "code",
      "metadata": {
        "colab": {
          "base_uri": "https://localhost:8080/",
          "height": 1000
        },
        "id": "CvqqAJxgBmd3",
        "outputId": "8a8689a4-a29a-42cd-b335-f396063b8ee2"
      },
      "source": [
        "display_closestwords_tsnescatterplot(model, 'খেলা', 100)"
      ],
      "execution_count": 38,
      "outputs": [
        {
          "output_type": "stream",
          "text": [
            "/usr/local/lib/python3.7/dist-packages/matplotlib/backends/backend_agg.py:214: RuntimeWarning: Glyph 2454 missing from current font.\n",
            "  font.set_text(s, 0.0, flags=flags)\n",
            "/usr/local/lib/python3.7/dist-packages/matplotlib/backends/backend_agg.py:214: RuntimeWarning: Glyph 2503 missing from current font.\n",
            "  font.set_text(s, 0.0, flags=flags)\n",
            "/usr/local/lib/python3.7/dist-packages/matplotlib/backends/backend_agg.py:214: RuntimeWarning: Glyph 2482 missing from current font.\n",
            "  font.set_text(s, 0.0, flags=flags)\n",
            "/usr/local/lib/python3.7/dist-packages/matplotlib/backends/backend_agg.py:214: RuntimeWarning: Glyph 2494 missing from current font.\n",
            "  font.set_text(s, 0.0, flags=flags)\n",
            "/usr/local/lib/python3.7/dist-packages/matplotlib/backends/backend_agg.py:183: RuntimeWarning: Glyph 2454 missing from current font.\n",
            "  font.set_text(s, 0, flags=flags)\n",
            "/usr/local/lib/python3.7/dist-packages/matplotlib/backends/backend_agg.py:183: RuntimeWarning: Glyph 2503 missing from current font.\n",
            "  font.set_text(s, 0, flags=flags)\n",
            "/usr/local/lib/python3.7/dist-packages/matplotlib/backends/backend_agg.py:183: RuntimeWarning: Glyph 2482 missing from current font.\n",
            "  font.set_text(s, 0, flags=flags)\n",
            "/usr/local/lib/python3.7/dist-packages/matplotlib/backends/backend_agg.py:183: RuntimeWarning: Glyph 2494 missing from current font.\n",
            "  font.set_text(s, 0, flags=flags)\n",
            "/usr/local/lib/python3.7/dist-packages/matplotlib/backends/backend_agg.py:214: RuntimeWarning: Glyph 2479 missing from current font.\n",
            "  font.set_text(s, 0.0, flags=flags)\n",
            "/usr/local/lib/python3.7/dist-packages/matplotlib/backends/backend_agg.py:214: RuntimeWarning: Glyph 2470 missing from current font.\n",
            "  font.set_text(s, 0.0, flags=flags)\n",
            "/usr/local/lib/python3.7/dist-packages/matplotlib/backends/backend_agg.py:214: RuntimeWarning: Glyph 2495 missing from current font.\n",
            "  font.set_text(s, 0.0, flags=flags)\n",
            "/usr/local/lib/python3.7/dist-packages/matplotlib/backends/backend_agg.py:183: RuntimeWarning: Glyph 2479 missing from current font.\n",
            "  font.set_text(s, 0, flags=flags)\n",
            "/usr/local/lib/python3.7/dist-packages/matplotlib/backends/backend_agg.py:183: RuntimeWarning: Glyph 2470 missing from current font.\n",
            "  font.set_text(s, 0, flags=flags)\n",
            "/usr/local/lib/python3.7/dist-packages/matplotlib/backends/backend_agg.py:183: RuntimeWarning: Glyph 2495 missing from current font.\n",
            "  font.set_text(s, 0, flags=flags)\n",
            "/usr/local/lib/python3.7/dist-packages/matplotlib/backends/backend_agg.py:214: RuntimeWarning: Glyph 2459 missing from current font.\n",
            "  font.set_text(s, 0.0, flags=flags)\n",
            "/usr/local/lib/python3.7/dist-packages/matplotlib/backends/backend_agg.py:214: RuntimeWarning: Glyph 2524 missing from current font.\n",
            "  font.set_text(s, 0.0, flags=flags)\n",
            "/usr/local/lib/python3.7/dist-packages/matplotlib/backends/backend_agg.py:183: RuntimeWarning: Glyph 2459 missing from current font.\n",
            "  font.set_text(s, 0, flags=flags)\n",
            "/usr/local/lib/python3.7/dist-packages/matplotlib/backends/backend_agg.py:183: RuntimeWarning: Glyph 2524 missing from current font.\n",
            "  font.set_text(s, 0, flags=flags)\n",
            "/usr/local/lib/python3.7/dist-packages/matplotlib/backends/backend_agg.py:214: RuntimeWarning: Glyph 2447 missing from current font.\n",
            "  font.set_text(s, 0.0, flags=flags)\n",
            "/usr/local/lib/python3.7/dist-packages/matplotlib/backends/backend_agg.py:214: RuntimeWarning: Glyph 2453 missing from current font.\n",
            "  font.set_text(s, 0.0, flags=flags)\n",
            "/usr/local/lib/python3.7/dist-packages/matplotlib/backends/backend_agg.py:214: RuntimeWarning: Glyph 2460 missing from current font.\n",
            "  font.set_text(s, 0.0, flags=flags)\n",
            "/usr/local/lib/python3.7/dist-packages/matplotlib/backends/backend_agg.py:214: RuntimeWarning: Glyph 2472 missing from current font.\n",
            "  font.set_text(s, 0.0, flags=flags)\n",
            "/usr/local/lib/python3.7/dist-packages/matplotlib/backends/backend_agg.py:183: RuntimeWarning: Glyph 2447 missing from current font.\n",
            "  font.set_text(s, 0, flags=flags)\n",
            "/usr/local/lib/python3.7/dist-packages/matplotlib/backends/backend_agg.py:183: RuntimeWarning: Glyph 2453 missing from current font.\n",
            "  font.set_text(s, 0, flags=flags)\n",
            "/usr/local/lib/python3.7/dist-packages/matplotlib/backends/backend_agg.py:183: RuntimeWarning: Glyph 2460 missing from current font.\n",
            "  font.set_text(s, 0, flags=flags)\n",
            "/usr/local/lib/python3.7/dist-packages/matplotlib/backends/backend_agg.py:183: RuntimeWarning: Glyph 2472 missing from current font.\n",
            "  font.set_text(s, 0, flags=flags)\n",
            "/usr/local/lib/python3.7/dist-packages/matplotlib/backends/backend_agg.py:214: RuntimeWarning: Glyph 2507 missing from current font.\n",
            "  font.set_text(s, 0.0, flags=flags)\n",
            "/usr/local/lib/python3.7/dist-packages/matplotlib/backends/backend_agg.py:214: RuntimeWarning: Glyph 2487 missing from current font.\n",
            "  font.set_text(s, 0.0, flags=flags)\n",
            "/usr/local/lib/python3.7/dist-packages/matplotlib/backends/backend_agg.py:183: RuntimeWarning: Glyph 2507 missing from current font.\n",
            "  font.set_text(s, 0, flags=flags)\n",
            "/usr/local/lib/python3.7/dist-packages/matplotlib/backends/backend_agg.py:183: RuntimeWarning: Glyph 2487 missing from current font.\n",
            "  font.set_text(s, 0, flags=flags)\n",
            "/usr/local/lib/python3.7/dist-packages/matplotlib/backends/backend_agg.py:214: RuntimeWarning: Glyph 2478 missing from current font.\n",
            "  font.set_text(s, 0.0, flags=flags)\n",
            "/usr/local/lib/python3.7/dist-packages/matplotlib/backends/backend_agg.py:214: RuntimeWarning: Glyph 2471 missing from current font.\n",
            "  font.set_text(s, 0.0, flags=flags)\n",
            "/usr/local/lib/python3.7/dist-packages/matplotlib/backends/backend_agg.py:214: RuntimeWarning: Glyph 2509 missing from current font.\n",
            "  font.set_text(s, 0.0, flags=flags)\n",
            "/usr/local/lib/python3.7/dist-packages/matplotlib/backends/backend_agg.py:183: RuntimeWarning: Glyph 2478 missing from current font.\n",
            "  font.set_text(s, 0, flags=flags)\n",
            "/usr/local/lib/python3.7/dist-packages/matplotlib/backends/backend_agg.py:183: RuntimeWarning: Glyph 2471 missing from current font.\n",
            "  font.set_text(s, 0, flags=flags)\n",
            "/usr/local/lib/python3.7/dist-packages/matplotlib/backends/backend_agg.py:183: RuntimeWarning: Glyph 2509 missing from current font.\n",
            "  font.set_text(s, 0, flags=flags)\n",
            "/usr/local/lib/python3.7/dist-packages/matplotlib/backends/backend_agg.py:214: RuntimeWarning: Glyph 2497 missing from current font.\n",
            "  font.set_text(s, 0.0, flags=flags)\n",
            "/usr/local/lib/python3.7/dist-packages/matplotlib/backends/backend_agg.py:214: RuntimeWarning: Glyph 2476 missing from current font.\n",
            "  font.set_text(s, 0.0, flags=flags)\n",
            "/usr/local/lib/python3.7/dist-packages/matplotlib/backends/backend_agg.py:183: RuntimeWarning: Glyph 2497 missing from current font.\n",
            "  font.set_text(s, 0, flags=flags)\n",
            "/usr/local/lib/python3.7/dist-packages/matplotlib/backends/backend_agg.py:183: RuntimeWarning: Glyph 2476 missing from current font.\n",
            "  font.set_text(s, 0, flags=flags)\n",
            "/usr/local/lib/python3.7/dist-packages/matplotlib/backends/backend_agg.py:214: RuntimeWarning: Glyph 2468 missing from current font.\n",
            "  font.set_text(s, 0.0, flags=flags)\n",
            "/usr/local/lib/python3.7/dist-packages/matplotlib/backends/backend_agg.py:214: RuntimeWarning: Glyph 2480 missing from current font.\n",
            "  font.set_text(s, 0.0, flags=flags)\n",
            "/usr/local/lib/python3.7/dist-packages/matplotlib/backends/backend_agg.py:214: RuntimeWarning: Glyph 2474 missing from current font.\n",
            "  font.set_text(s, 0.0, flags=flags)\n",
            "/usr/local/lib/python3.7/dist-packages/matplotlib/backends/backend_agg.py:183: RuntimeWarning: Glyph 2468 missing from current font.\n",
            "  font.set_text(s, 0, flags=flags)\n",
            "/usr/local/lib/python3.7/dist-packages/matplotlib/backends/backend_agg.py:183: RuntimeWarning: Glyph 2480 missing from current font.\n",
            "  font.set_text(s, 0, flags=flags)\n",
            "/usr/local/lib/python3.7/dist-packages/matplotlib/backends/backend_agg.py:183: RuntimeWarning: Glyph 2474 missing from current font.\n",
            "  font.set_text(s, 0, flags=flags)\n"
          ],
          "name": "stderr"
        },
        {
          "output_type": "display_data",
          "data": {
            "image/png": "[encoded data removed]",
            "text/plain": [
              "<Figure size 432x288 with 1 Axes>"
            ]
          },
          "metadata": {
            "tags": [],
            "needs_background": "light"
          }
        }
      ]
    },
    {
      "cell_type": "code",
      "metadata": {
        "id": "N3o1hhsMQjkH"
      },
      "source": [
        ""
      ],
      "execution_count": null,
      "outputs": []
    }
  ]
}